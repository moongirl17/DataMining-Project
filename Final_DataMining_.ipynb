{
  "nbformat": 4,
  "nbformat_minor": 0,
  "metadata": {
    "colab": {
      "provenance": []
    },
    "kernelspec": {
      "name": "python3",
      "display_name": "Python 3"
    },
    "language_info": {
      "name": "python"
    }
  },
  "cells": [
    {
      "cell_type": "markdown",
      "source": [
        "# **Flight Price Prediction By Widya Marin**\n",
        "\n",
        "Airline ticket or airline ticket is a letter or document made by an airline or travel.  This is to confirm that someone has purchased a flight seat from the aircraft. Currently, the increase in airfare prices is looming.  Several factors can cause an increase in airfare prices such as airlines, destination cities, departure and arrival times and so on. Many people complain about the increase in airfare prices. This research was conducted with the aim of finding out what factors cause the erratic increase in airfare prices and predicting airfares that suit current market needs. The Multiple Linear regression and Random Forest methods are one of the methods that can be done in predicting airfare.  From the application of these two methods, Random Forest has a higher success rate of 98.76% with RMSE which is 2528.\n"
      ],
      "metadata": {
        "id": "qbUQIBQs7suh"
      }
    },
    {
      "cell_type": "code",
      "execution_count": 32,
      "metadata": {
        "id": "BreQXqrOAkYh"
      },
      "outputs": [],
      "source": [
        "#Import Library\n",
        "import pandas as pd\n",
        "import numpy as np\n",
        "import matplotlib.pyplot as plt\n",
        "import seaborn as sns\n",
        "from scipy import stats\n",
        "from sklearn import tree\n",
        "import os\n",
        "from sklearn import preprocessing\n",
        "from sklearn.linear_model import LinearRegression\n",
        "from sklearn.model_selection import train_test_split\n",
        "from sklearn.metrics import mean_squared_error \n",
        "from sklearn.ensemble import RandomForestRegressor\n",
        "from sklearn.tree import DecisionTreeRegressor\n",
        "from sklearn.ensemble import BaggingRegressor"
      ]
    },
    {
      "cell_type": "code",
      "source": [
        "#Read data\n",
        "df = pd.read_csv('/content/Clean_Dataset.csv')"
      ],
      "metadata": {
        "id": "V8BWfIF7AxoH"
      },
      "execution_count": 33,
      "outputs": []
    },
    {
      "cell_type": "markdown",
      "source": [
        "# **Data Cleaning**"
      ],
      "metadata": {
        "id": "1JiEhzxe7X4m"
      }
    },
    {
      "cell_type": "code",
      "source": [
        "# checking null data\n",
        "df.info()"
      ],
      "metadata": {
        "colab": {
          "base_uri": "https://localhost:8080/"
        },
        "id": "rzRkBMuzAxj8",
        "outputId": "1cbdb907-3996-42ae-aac3-5ef6b2969a7f"
      },
      "execution_count": 34,
      "outputs": [
        {
          "output_type": "stream",
          "name": "stdout",
          "text": [
            "<class 'pandas.core.frame.DataFrame'>\n",
            "RangeIndex: 300153 entries, 0 to 300152\n",
            "Data columns (total 12 columns):\n",
            " #   Column            Non-Null Count   Dtype  \n",
            "---  ------            --------------   -----  \n",
            " 0   Unnamed: 0        300153 non-null  int64  \n",
            " 1   airline           300153 non-null  object \n",
            " 2   flight            300153 non-null  object \n",
            " 3   source_city       300153 non-null  object \n",
            " 4   departure_time    300153 non-null  object \n",
            " 5   stops             300153 non-null  object \n",
            " 6   arrival_time      300153 non-null  object \n",
            " 7   destination_city  300153 non-null  object \n",
            " 8   class             300153 non-null  object \n",
            " 9   duration          300153 non-null  float64\n",
            " 10  days_left         300153 non-null  int64  \n",
            " 11  price             300153 non-null  int64  \n",
            "dtypes: float64(1), int64(3), object(8)\n",
            "memory usage: 27.5+ MB\n"
          ]
        }
      ]
    },
    {
      "cell_type": "code",
      "source": [
        "#Checking Data types\n",
        "df.dtypes"
      ],
      "metadata": {
        "colab": {
          "base_uri": "https://localhost:8080/"
        },
        "id": "pPMpHn7kAxdm",
        "outputId": "cd5aae98-bbe1-4b00-f5a1-9dcec15215ae"
      },
      "execution_count": 35,
      "outputs": [
        {
          "output_type": "execute_result",
          "data": {
            "text/plain": [
              "Unnamed: 0            int64\n",
              "airline              object\n",
              "flight               object\n",
              "source_city          object\n",
              "departure_time       object\n",
              "stops                object\n",
              "arrival_time         object\n",
              "destination_city     object\n",
              "class                object\n",
              "duration            float64\n",
              "days_left             int64\n",
              "price                 int64\n",
              "dtype: object"
            ]
          },
          "metadata": {},
          "execution_count": 35
        }
      ]
    },
    {
      "cell_type": "code",
      "source": [
        "df.tail(10)"
      ],
      "metadata": {
        "colab": {
          "base_uri": "https://localhost:8080/",
          "height": 363
        },
        "id": "scMwjX0sAxZb",
        "outputId": "b0ab9e8d-5819-46b8-8efa-cffd25ea185b"
      },
      "execution_count": 36,
      "outputs": [
        {
          "output_type": "execute_result",
          "data": {
            "text/plain": [
              "        Unnamed: 0    airline  flight source_city departure_time stops  \\\n",
              "300143      300143  Air_India  AI-440     Chennai  Early_Morning   one   \n",
              "300144      300144  Air_India  AI-539     Chennai        Evening   one   \n",
              "300145      300145  Air_India  AI-430     Chennai        Morning   one   \n",
              "300146      300146  Air_India  AI-440     Chennai  Early_Morning   one   \n",
              "300147      300147  Air_India  AI-569     Chennai  Early_Morning   one   \n",
              "300148      300148    Vistara  UK-822     Chennai        Morning   one   \n",
              "300149      300149    Vistara  UK-826     Chennai      Afternoon   one   \n",
              "300150      300150    Vistara  UK-832     Chennai  Early_Morning   one   \n",
              "300151      300151    Vistara  UK-828     Chennai  Early_Morning   one   \n",
              "300152      300152    Vistara  UK-822     Chennai        Morning   one   \n",
              "\n",
              "       arrival_time destination_city     class  duration  days_left  price  \n",
              "300143        Night        Hyderabad  Business     17.42         49  51345  \n",
              "300144      Morning        Hyderabad  Business     18.92         49  51345  \n",
              "300145      Morning        Hyderabad  Business     23.08         49  51345  \n",
              "300146      Morning        Hyderabad  Business     26.83         49  51345  \n",
              "300147        Night        Hyderabad  Business     17.25         49  68739  \n",
              "300148      Evening        Hyderabad  Business     10.08         49  69265  \n",
              "300149        Night        Hyderabad  Business     10.42         49  77105  \n",
              "300150        Night        Hyderabad  Business     13.83         49  79099  \n",
              "300151      Evening        Hyderabad  Business     10.00         49  81585  \n",
              "300152      Evening        Hyderabad  Business     10.08         49  81585  "
            ],
            "text/html": [
              "\n",
              "  <div id=\"df-0baa0d0c-a905-4fd1-bfd6-398d6230e2cd\">\n",
              "    <div class=\"colab-df-container\">\n",
              "      <div>\n",
              "<style scoped>\n",
              "    .dataframe tbody tr th:only-of-type {\n",
              "        vertical-align: middle;\n",
              "    }\n",
              "\n",
              "    .dataframe tbody tr th {\n",
              "        vertical-align: top;\n",
              "    }\n",
              "\n",
              "    .dataframe thead th {\n",
              "        text-align: right;\n",
              "    }\n",
              "</style>\n",
              "<table border=\"1\" class=\"dataframe\">\n",
              "  <thead>\n",
              "    <tr style=\"text-align: right;\">\n",
              "      <th></th>\n",
              "      <th>Unnamed: 0</th>\n",
              "      <th>airline</th>\n",
              "      <th>flight</th>\n",
              "      <th>source_city</th>\n",
              "      <th>departure_time</th>\n",
              "      <th>stops</th>\n",
              "      <th>arrival_time</th>\n",
              "      <th>destination_city</th>\n",
              "      <th>class</th>\n",
              "      <th>duration</th>\n",
              "      <th>days_left</th>\n",
              "      <th>price</th>\n",
              "    </tr>\n",
              "  </thead>\n",
              "  <tbody>\n",
              "    <tr>\n",
              "      <th>300143</th>\n",
              "      <td>300143</td>\n",
              "      <td>Air_India</td>\n",
              "      <td>AI-440</td>\n",
              "      <td>Chennai</td>\n",
              "      <td>Early_Morning</td>\n",
              "      <td>one</td>\n",
              "      <td>Night</td>\n",
              "      <td>Hyderabad</td>\n",
              "      <td>Business</td>\n",
              "      <td>17.42</td>\n",
              "      <td>49</td>\n",
              "      <td>51345</td>\n",
              "    </tr>\n",
              "    <tr>\n",
              "      <th>300144</th>\n",
              "      <td>300144</td>\n",
              "      <td>Air_India</td>\n",
              "      <td>AI-539</td>\n",
              "      <td>Chennai</td>\n",
              "      <td>Evening</td>\n",
              "      <td>one</td>\n",
              "      <td>Morning</td>\n",
              "      <td>Hyderabad</td>\n",
              "      <td>Business</td>\n",
              "      <td>18.92</td>\n",
              "      <td>49</td>\n",
              "      <td>51345</td>\n",
              "    </tr>\n",
              "    <tr>\n",
              "      <th>300145</th>\n",
              "      <td>300145</td>\n",
              "      <td>Air_India</td>\n",
              "      <td>AI-430</td>\n",
              "      <td>Chennai</td>\n",
              "      <td>Morning</td>\n",
              "      <td>one</td>\n",
              "      <td>Morning</td>\n",
              "      <td>Hyderabad</td>\n",
              "      <td>Business</td>\n",
              "      <td>23.08</td>\n",
              "      <td>49</td>\n",
              "      <td>51345</td>\n",
              "    </tr>\n",
              "    <tr>\n",
              "      <th>300146</th>\n",
              "      <td>300146</td>\n",
              "      <td>Air_India</td>\n",
              "      <td>AI-440</td>\n",
              "      <td>Chennai</td>\n",
              "      <td>Early_Morning</td>\n",
              "      <td>one</td>\n",
              "      <td>Morning</td>\n",
              "      <td>Hyderabad</td>\n",
              "      <td>Business</td>\n",
              "      <td>26.83</td>\n",
              "      <td>49</td>\n",
              "      <td>51345</td>\n",
              "    </tr>\n",
              "    <tr>\n",
              "      <th>300147</th>\n",
              "      <td>300147</td>\n",
              "      <td>Air_India</td>\n",
              "      <td>AI-569</td>\n",
              "      <td>Chennai</td>\n",
              "      <td>Early_Morning</td>\n",
              "      <td>one</td>\n",
              "      <td>Night</td>\n",
              "      <td>Hyderabad</td>\n",
              "      <td>Business</td>\n",
              "      <td>17.25</td>\n",
              "      <td>49</td>\n",
              "      <td>68739</td>\n",
              "    </tr>\n",
              "    <tr>\n",
              "      <th>300148</th>\n",
              "      <td>300148</td>\n",
              "      <td>Vistara</td>\n",
              "      <td>UK-822</td>\n",
              "      <td>Chennai</td>\n",
              "      <td>Morning</td>\n",
              "      <td>one</td>\n",
              "      <td>Evening</td>\n",
              "      <td>Hyderabad</td>\n",
              "      <td>Business</td>\n",
              "      <td>10.08</td>\n",
              "      <td>49</td>\n",
              "      <td>69265</td>\n",
              "    </tr>\n",
              "    <tr>\n",
              "      <th>300149</th>\n",
              "      <td>300149</td>\n",
              "      <td>Vistara</td>\n",
              "      <td>UK-826</td>\n",
              "      <td>Chennai</td>\n",
              "      <td>Afternoon</td>\n",
              "      <td>one</td>\n",
              "      <td>Night</td>\n",
              "      <td>Hyderabad</td>\n",
              "      <td>Business</td>\n",
              "      <td>10.42</td>\n",
              "      <td>49</td>\n",
              "      <td>77105</td>\n",
              "    </tr>\n",
              "    <tr>\n",
              "      <th>300150</th>\n",
              "      <td>300150</td>\n",
              "      <td>Vistara</td>\n",
              "      <td>UK-832</td>\n",
              "      <td>Chennai</td>\n",
              "      <td>Early_Morning</td>\n",
              "      <td>one</td>\n",
              "      <td>Night</td>\n",
              "      <td>Hyderabad</td>\n",
              "      <td>Business</td>\n",
              "      <td>13.83</td>\n",
              "      <td>49</td>\n",
              "      <td>79099</td>\n",
              "    </tr>\n",
              "    <tr>\n",
              "      <th>300151</th>\n",
              "      <td>300151</td>\n",
              "      <td>Vistara</td>\n",
              "      <td>UK-828</td>\n",
              "      <td>Chennai</td>\n",
              "      <td>Early_Morning</td>\n",
              "      <td>one</td>\n",
              "      <td>Evening</td>\n",
              "      <td>Hyderabad</td>\n",
              "      <td>Business</td>\n",
              "      <td>10.00</td>\n",
              "      <td>49</td>\n",
              "      <td>81585</td>\n",
              "    </tr>\n",
              "    <tr>\n",
              "      <th>300152</th>\n",
              "      <td>300152</td>\n",
              "      <td>Vistara</td>\n",
              "      <td>UK-822</td>\n",
              "      <td>Chennai</td>\n",
              "      <td>Morning</td>\n",
              "      <td>one</td>\n",
              "      <td>Evening</td>\n",
              "      <td>Hyderabad</td>\n",
              "      <td>Business</td>\n",
              "      <td>10.08</td>\n",
              "      <td>49</td>\n",
              "      <td>81585</td>\n",
              "    </tr>\n",
              "  </tbody>\n",
              "</table>\n",
              "</div>\n",
              "      <button class=\"colab-df-convert\" onclick=\"convertToInteractive('df-0baa0d0c-a905-4fd1-bfd6-398d6230e2cd')\"\n",
              "              title=\"Convert this dataframe to an interactive table.\"\n",
              "              style=\"display:none;\">\n",
              "        \n",
              "  <svg xmlns=\"http://www.w3.org/2000/svg\" height=\"24px\"viewBox=\"0 0 24 24\"\n",
              "       width=\"24px\">\n",
              "    <path d=\"M0 0h24v24H0V0z\" fill=\"none\"/>\n",
              "    <path d=\"M18.56 5.44l.94 2.06.94-2.06 2.06-.94-2.06-.94-.94-2.06-.94 2.06-2.06.94zm-11 1L8.5 8.5l.94-2.06 2.06-.94-2.06-.94L8.5 2.5l-.94 2.06-2.06.94zm10 10l.94 2.06.94-2.06 2.06-.94-2.06-.94-.94-2.06-.94 2.06-2.06.94z\"/><path d=\"M17.41 7.96l-1.37-1.37c-.4-.4-.92-.59-1.43-.59-.52 0-1.04.2-1.43.59L10.3 9.45l-7.72 7.72c-.78.78-.78 2.05 0 2.83L4 21.41c.39.39.9.59 1.41.59.51 0 1.02-.2 1.41-.59l7.78-7.78 2.81-2.81c.8-.78.8-2.07 0-2.86zM5.41 20L4 18.59l7.72-7.72 1.47 1.35L5.41 20z\"/>\n",
              "  </svg>\n",
              "      </button>\n",
              "      \n",
              "  <style>\n",
              "    .colab-df-container {\n",
              "      display:flex;\n",
              "      flex-wrap:wrap;\n",
              "      gap: 12px;\n",
              "    }\n",
              "\n",
              "    .colab-df-convert {\n",
              "      background-color: #E8F0FE;\n",
              "      border: none;\n",
              "      border-radius: 50%;\n",
              "      cursor: pointer;\n",
              "      display: none;\n",
              "      fill: #1967D2;\n",
              "      height: 32px;\n",
              "      padding: 0 0 0 0;\n",
              "      width: 32px;\n",
              "    }\n",
              "\n",
              "    .colab-df-convert:hover {\n",
              "      background-color: #E2EBFA;\n",
              "      box-shadow: 0px 1px 2px rgba(60, 64, 67, 0.3), 0px 1px 3px 1px rgba(60, 64, 67, 0.15);\n",
              "      fill: #174EA6;\n",
              "    }\n",
              "\n",
              "    [theme=dark] .colab-df-convert {\n",
              "      background-color: #3B4455;\n",
              "      fill: #D2E3FC;\n",
              "    }\n",
              "\n",
              "    [theme=dark] .colab-df-convert:hover {\n",
              "      background-color: #434B5C;\n",
              "      box-shadow: 0px 1px 3px 1px rgba(0, 0, 0, 0.15);\n",
              "      filter: drop-shadow(0px 1px 2px rgba(0, 0, 0, 0.3));\n",
              "      fill: #FFFFFF;\n",
              "    }\n",
              "  </style>\n",
              "\n",
              "      <script>\n",
              "        const buttonEl =\n",
              "          document.querySelector('#df-0baa0d0c-a905-4fd1-bfd6-398d6230e2cd button.colab-df-convert');\n",
              "        buttonEl.style.display =\n",
              "          google.colab.kernel.accessAllowed ? 'block' : 'none';\n",
              "\n",
              "        async function convertToInteractive(key) {\n",
              "          const element = document.querySelector('#df-0baa0d0c-a905-4fd1-bfd6-398d6230e2cd');\n",
              "          const dataTable =\n",
              "            await google.colab.kernel.invokeFunction('convertToInteractive',\n",
              "                                                     [key], {});\n",
              "          if (!dataTable) return;\n",
              "\n",
              "          const docLinkHtml = 'Like what you see? Visit the ' +\n",
              "            '<a target=\"_blank\" href=https://colab.research.google.com/notebooks/data_table.ipynb>data table notebook</a>'\n",
              "            + ' to learn more about interactive tables.';\n",
              "          element.innerHTML = '';\n",
              "          dataTable['output_type'] = 'display_data';\n",
              "          await google.colab.output.renderOutput(dataTable, element);\n",
              "          const docLink = document.createElement('div');\n",
              "          docLink.innerHTML = docLinkHtml;\n",
              "          element.appendChild(docLink);\n",
              "        }\n",
              "      </script>\n",
              "    </div>\n",
              "  </div>\n",
              "  "
            ]
          },
          "metadata": {},
          "execution_count": 36
        }
      ]
    },
    {
      "cell_type": "code",
      "source": [
        "df.shape"
      ],
      "metadata": {
        "colab": {
          "base_uri": "https://localhost:8080/"
        },
        "id": "4EBKfWWTAxVP",
        "outputId": "e3ff7f87-8a0f-436a-a5a7-e871388b21df"
      },
      "execution_count": 37,
      "outputs": [
        {
          "output_type": "execute_result",
          "data": {
            "text/plain": [
              "(300153, 12)"
            ]
          },
          "metadata": {},
          "execution_count": 37
        }
      ]
    },
    {
      "cell_type": "code",
      "source": [
        "#Checking duplicated Data\n",
        "df.duplicated()"
      ],
      "metadata": {
        "colab": {
          "base_uri": "https://localhost:8080/"
        },
        "id": "9MTEfvwuAxRl",
        "outputId": "8aabd569-6ef7-449d-d57b-9262a5fb55b2"
      },
      "execution_count": 38,
      "outputs": [
        {
          "output_type": "execute_result",
          "data": {
            "text/plain": [
              "0         False\n",
              "1         False\n",
              "2         False\n",
              "3         False\n",
              "4         False\n",
              "          ...  \n",
              "300148    False\n",
              "300149    False\n",
              "300150    False\n",
              "300151    False\n",
              "300152    False\n",
              "Length: 300153, dtype: bool"
            ]
          },
          "metadata": {},
          "execution_count": 38
        }
      ]
    },
    {
      "cell_type": "code",
      "source": [
        "df.drop_duplicates(inplace = True)"
      ],
      "metadata": {
        "id": "UtdrDe7aAxOG"
      },
      "execution_count": 39,
      "outputs": []
    },
    {
      "cell_type": "code",
      "source": [
        "#drop column\n",
        "df = df.drop(['Unnamed: 0'],axis=1)"
      ],
      "metadata": {
        "id": "zZu4EPQphuoU"
      },
      "execution_count": 40,
      "outputs": []
    },
    {
      "cell_type": "markdown",
      "source": [
        "We drop 'Unnamed: 0' column because is not important"
      ],
      "metadata": {
        "id": "LOU0WLKvB0uM"
      }
    },
    {
      "cell_type": "code",
      "source": [
        "# check dataset\n",
        "df"
      ],
      "metadata": {
        "colab": {
          "base_uri": "https://localhost:8080/",
          "height": 424
        },
        "id": "8PdtftlGAxFa",
        "outputId": "0eb09096-92bb-4aa9-89cf-e7fa92f93145"
      },
      "execution_count": 41,
      "outputs": [
        {
          "output_type": "execute_result",
          "data": {
            "text/plain": [
              "         airline   flight source_city departure_time stops   arrival_time  \\\n",
              "0       SpiceJet  SG-8709       Delhi        Evening  zero          Night   \n",
              "1       SpiceJet  SG-8157       Delhi  Early_Morning  zero        Morning   \n",
              "2        AirAsia   I5-764       Delhi  Early_Morning  zero  Early_Morning   \n",
              "3        Vistara   UK-995       Delhi        Morning  zero      Afternoon   \n",
              "4        Vistara   UK-963       Delhi        Morning  zero        Morning   \n",
              "...          ...      ...         ...            ...   ...            ...   \n",
              "300148   Vistara   UK-822     Chennai        Morning   one        Evening   \n",
              "300149   Vistara   UK-826     Chennai      Afternoon   one          Night   \n",
              "300150   Vistara   UK-832     Chennai  Early_Morning   one          Night   \n",
              "300151   Vistara   UK-828     Chennai  Early_Morning   one        Evening   \n",
              "300152   Vistara   UK-822     Chennai        Morning   one        Evening   \n",
              "\n",
              "       destination_city     class  duration  days_left  price  \n",
              "0                Mumbai   Economy      2.17          1   5953  \n",
              "1                Mumbai   Economy      2.33          1   5953  \n",
              "2                Mumbai   Economy      2.17          1   5956  \n",
              "3                Mumbai   Economy      2.25          1   5955  \n",
              "4                Mumbai   Economy      2.33          1   5955  \n",
              "...                 ...       ...       ...        ...    ...  \n",
              "300148        Hyderabad  Business     10.08         49  69265  \n",
              "300149        Hyderabad  Business     10.42         49  77105  \n",
              "300150        Hyderabad  Business     13.83         49  79099  \n",
              "300151        Hyderabad  Business     10.00         49  81585  \n",
              "300152        Hyderabad  Business     10.08         49  81585  \n",
              "\n",
              "[300153 rows x 11 columns]"
            ],
            "text/html": [
              "\n",
              "  <div id=\"df-b0446ae4-94aa-41ad-9718-3a0c768aaa81\">\n",
              "    <div class=\"colab-df-container\">\n",
              "      <div>\n",
              "<style scoped>\n",
              "    .dataframe tbody tr th:only-of-type {\n",
              "        vertical-align: middle;\n",
              "    }\n",
              "\n",
              "    .dataframe tbody tr th {\n",
              "        vertical-align: top;\n",
              "    }\n",
              "\n",
              "    .dataframe thead th {\n",
              "        text-align: right;\n",
              "    }\n",
              "</style>\n",
              "<table border=\"1\" class=\"dataframe\">\n",
              "  <thead>\n",
              "    <tr style=\"text-align: right;\">\n",
              "      <th></th>\n",
              "      <th>airline</th>\n",
              "      <th>flight</th>\n",
              "      <th>source_city</th>\n",
              "      <th>departure_time</th>\n",
              "      <th>stops</th>\n",
              "      <th>arrival_time</th>\n",
              "      <th>destination_city</th>\n",
              "      <th>class</th>\n",
              "      <th>duration</th>\n",
              "      <th>days_left</th>\n",
              "      <th>price</th>\n",
              "    </tr>\n",
              "  </thead>\n",
              "  <tbody>\n",
              "    <tr>\n",
              "      <th>0</th>\n",
              "      <td>SpiceJet</td>\n",
              "      <td>SG-8709</td>\n",
              "      <td>Delhi</td>\n",
              "      <td>Evening</td>\n",
              "      <td>zero</td>\n",
              "      <td>Night</td>\n",
              "      <td>Mumbai</td>\n",
              "      <td>Economy</td>\n",
              "      <td>2.17</td>\n",
              "      <td>1</td>\n",
              "      <td>5953</td>\n",
              "    </tr>\n",
              "    <tr>\n",
              "      <th>1</th>\n",
              "      <td>SpiceJet</td>\n",
              "      <td>SG-8157</td>\n",
              "      <td>Delhi</td>\n",
              "      <td>Early_Morning</td>\n",
              "      <td>zero</td>\n",
              "      <td>Morning</td>\n",
              "      <td>Mumbai</td>\n",
              "      <td>Economy</td>\n",
              "      <td>2.33</td>\n",
              "      <td>1</td>\n",
              "      <td>5953</td>\n",
              "    </tr>\n",
              "    <tr>\n",
              "      <th>2</th>\n",
              "      <td>AirAsia</td>\n",
              "      <td>I5-764</td>\n",
              "      <td>Delhi</td>\n",
              "      <td>Early_Morning</td>\n",
              "      <td>zero</td>\n",
              "      <td>Early_Morning</td>\n",
              "      <td>Mumbai</td>\n",
              "      <td>Economy</td>\n",
              "      <td>2.17</td>\n",
              "      <td>1</td>\n",
              "      <td>5956</td>\n",
              "    </tr>\n",
              "    <tr>\n",
              "      <th>3</th>\n",
              "      <td>Vistara</td>\n",
              "      <td>UK-995</td>\n",
              "      <td>Delhi</td>\n",
              "      <td>Morning</td>\n",
              "      <td>zero</td>\n",
              "      <td>Afternoon</td>\n",
              "      <td>Mumbai</td>\n",
              "      <td>Economy</td>\n",
              "      <td>2.25</td>\n",
              "      <td>1</td>\n",
              "      <td>5955</td>\n",
              "    </tr>\n",
              "    <tr>\n",
              "      <th>4</th>\n",
              "      <td>Vistara</td>\n",
              "      <td>UK-963</td>\n",
              "      <td>Delhi</td>\n",
              "      <td>Morning</td>\n",
              "      <td>zero</td>\n",
              "      <td>Morning</td>\n",
              "      <td>Mumbai</td>\n",
              "      <td>Economy</td>\n",
              "      <td>2.33</td>\n",
              "      <td>1</td>\n",
              "      <td>5955</td>\n",
              "    </tr>\n",
              "    <tr>\n",
              "      <th>...</th>\n",
              "      <td>...</td>\n",
              "      <td>...</td>\n",
              "      <td>...</td>\n",
              "      <td>...</td>\n",
              "      <td>...</td>\n",
              "      <td>...</td>\n",
              "      <td>...</td>\n",
              "      <td>...</td>\n",
              "      <td>...</td>\n",
              "      <td>...</td>\n",
              "      <td>...</td>\n",
              "    </tr>\n",
              "    <tr>\n",
              "      <th>300148</th>\n",
              "      <td>Vistara</td>\n",
              "      <td>UK-822</td>\n",
              "      <td>Chennai</td>\n",
              "      <td>Morning</td>\n",
              "      <td>one</td>\n",
              "      <td>Evening</td>\n",
              "      <td>Hyderabad</td>\n",
              "      <td>Business</td>\n",
              "      <td>10.08</td>\n",
              "      <td>49</td>\n",
              "      <td>69265</td>\n",
              "    </tr>\n",
              "    <tr>\n",
              "      <th>300149</th>\n",
              "      <td>Vistara</td>\n",
              "      <td>UK-826</td>\n",
              "      <td>Chennai</td>\n",
              "      <td>Afternoon</td>\n",
              "      <td>one</td>\n",
              "      <td>Night</td>\n",
              "      <td>Hyderabad</td>\n",
              "      <td>Business</td>\n",
              "      <td>10.42</td>\n",
              "      <td>49</td>\n",
              "      <td>77105</td>\n",
              "    </tr>\n",
              "    <tr>\n",
              "      <th>300150</th>\n",
              "      <td>Vistara</td>\n",
              "      <td>UK-832</td>\n",
              "      <td>Chennai</td>\n",
              "      <td>Early_Morning</td>\n",
              "      <td>one</td>\n",
              "      <td>Night</td>\n",
              "      <td>Hyderabad</td>\n",
              "      <td>Business</td>\n",
              "      <td>13.83</td>\n",
              "      <td>49</td>\n",
              "      <td>79099</td>\n",
              "    </tr>\n",
              "    <tr>\n",
              "      <th>300151</th>\n",
              "      <td>Vistara</td>\n",
              "      <td>UK-828</td>\n",
              "      <td>Chennai</td>\n",
              "      <td>Early_Morning</td>\n",
              "      <td>one</td>\n",
              "      <td>Evening</td>\n",
              "      <td>Hyderabad</td>\n",
              "      <td>Business</td>\n",
              "      <td>10.00</td>\n",
              "      <td>49</td>\n",
              "      <td>81585</td>\n",
              "    </tr>\n",
              "    <tr>\n",
              "      <th>300152</th>\n",
              "      <td>Vistara</td>\n",
              "      <td>UK-822</td>\n",
              "      <td>Chennai</td>\n",
              "      <td>Morning</td>\n",
              "      <td>one</td>\n",
              "      <td>Evening</td>\n",
              "      <td>Hyderabad</td>\n",
              "      <td>Business</td>\n",
              "      <td>10.08</td>\n",
              "      <td>49</td>\n",
              "      <td>81585</td>\n",
              "    </tr>\n",
              "  </tbody>\n",
              "</table>\n",
              "<p>300153 rows × 11 columns</p>\n",
              "</div>\n",
              "      <button class=\"colab-df-convert\" onclick=\"convertToInteractive('df-b0446ae4-94aa-41ad-9718-3a0c768aaa81')\"\n",
              "              title=\"Convert this dataframe to an interactive table.\"\n",
              "              style=\"display:none;\">\n",
              "        \n",
              "  <svg xmlns=\"http://www.w3.org/2000/svg\" height=\"24px\"viewBox=\"0 0 24 24\"\n",
              "       width=\"24px\">\n",
              "    <path d=\"M0 0h24v24H0V0z\" fill=\"none\"/>\n",
              "    <path d=\"M18.56 5.44l.94 2.06.94-2.06 2.06-.94-2.06-.94-.94-2.06-.94 2.06-2.06.94zm-11 1L8.5 8.5l.94-2.06 2.06-.94-2.06-.94L8.5 2.5l-.94 2.06-2.06.94zm10 10l.94 2.06.94-2.06 2.06-.94-2.06-.94-.94-2.06-.94 2.06-2.06.94z\"/><path d=\"M17.41 7.96l-1.37-1.37c-.4-.4-.92-.59-1.43-.59-.52 0-1.04.2-1.43.59L10.3 9.45l-7.72 7.72c-.78.78-.78 2.05 0 2.83L4 21.41c.39.39.9.59 1.41.59.51 0 1.02-.2 1.41-.59l7.78-7.78 2.81-2.81c.8-.78.8-2.07 0-2.86zM5.41 20L4 18.59l7.72-7.72 1.47 1.35L5.41 20z\"/>\n",
              "  </svg>\n",
              "      </button>\n",
              "      \n",
              "  <style>\n",
              "    .colab-df-container {\n",
              "      display:flex;\n",
              "      flex-wrap:wrap;\n",
              "      gap: 12px;\n",
              "    }\n",
              "\n",
              "    .colab-df-convert {\n",
              "      background-color: #E8F0FE;\n",
              "      border: none;\n",
              "      border-radius: 50%;\n",
              "      cursor: pointer;\n",
              "      display: none;\n",
              "      fill: #1967D2;\n",
              "      height: 32px;\n",
              "      padding: 0 0 0 0;\n",
              "      width: 32px;\n",
              "    }\n",
              "\n",
              "    .colab-df-convert:hover {\n",
              "      background-color: #E2EBFA;\n",
              "      box-shadow: 0px 1px 2px rgba(60, 64, 67, 0.3), 0px 1px 3px 1px rgba(60, 64, 67, 0.15);\n",
              "      fill: #174EA6;\n",
              "    }\n",
              "\n",
              "    [theme=dark] .colab-df-convert {\n",
              "      background-color: #3B4455;\n",
              "      fill: #D2E3FC;\n",
              "    }\n",
              "\n",
              "    [theme=dark] .colab-df-convert:hover {\n",
              "      background-color: #434B5C;\n",
              "      box-shadow: 0px 1px 3px 1px rgba(0, 0, 0, 0.15);\n",
              "      filter: drop-shadow(0px 1px 2px rgba(0, 0, 0, 0.3));\n",
              "      fill: #FFFFFF;\n",
              "    }\n",
              "  </style>\n",
              "\n",
              "      <script>\n",
              "        const buttonEl =\n",
              "          document.querySelector('#df-b0446ae4-94aa-41ad-9718-3a0c768aaa81 button.colab-df-convert');\n",
              "        buttonEl.style.display =\n",
              "          google.colab.kernel.accessAllowed ? 'block' : 'none';\n",
              "\n",
              "        async function convertToInteractive(key) {\n",
              "          const element = document.querySelector('#df-b0446ae4-94aa-41ad-9718-3a0c768aaa81');\n",
              "          const dataTable =\n",
              "            await google.colab.kernel.invokeFunction('convertToInteractive',\n",
              "                                                     [key], {});\n",
              "          if (!dataTable) return;\n",
              "\n",
              "          const docLinkHtml = 'Like what you see? Visit the ' +\n",
              "            '<a target=\"_blank\" href=https://colab.research.google.com/notebooks/data_table.ipynb>data table notebook</a>'\n",
              "            + ' to learn more about interactive tables.';\n",
              "          element.innerHTML = '';\n",
              "          dataTable['output_type'] = 'display_data';\n",
              "          await google.colab.output.renderOutput(dataTable, element);\n",
              "          const docLink = document.createElement('div');\n",
              "          docLink.innerHTML = docLinkHtml;\n",
              "          element.appendChild(docLink);\n",
              "        }\n",
              "      </script>\n",
              "    </div>\n",
              "  </div>\n",
              "  "
            ]
          },
          "metadata": {},
          "execution_count": 41
        }
      ]
    },
    {
      "cell_type": "code",
      "source": [
        "#checking Null data\n",
        "df.isnull().sum()"
      ],
      "metadata": {
        "colab": {
          "base_uri": "https://localhost:8080/"
        },
        "id": "g7J-w3hwq75M",
        "outputId": "f50f36ab-4220-476c-e1dc-b3401762717a"
      },
      "execution_count": 42,
      "outputs": [
        {
          "output_type": "execute_result",
          "data": {
            "text/plain": [
              "airline             0\n",
              "flight              0\n",
              "source_city         0\n",
              "departure_time      0\n",
              "stops               0\n",
              "arrival_time        0\n",
              "destination_city    0\n",
              "class               0\n",
              "duration            0\n",
              "days_left           0\n",
              "price               0\n",
              "dtype: int64"
            ]
          },
          "metadata": {},
          "execution_count": 42
        }
      ]
    },
    {
      "cell_type": "code",
      "source": [
        "df.describe()"
      ],
      "metadata": {
        "colab": {
          "base_uri": "https://localhost:8080/",
          "height": 300
        },
        "id": "EGgM3PVxAw_Z",
        "outputId": "011038db-1194-49c2-fb77-3bc97fd3be0f"
      },
      "execution_count": 43,
      "outputs": [
        {
          "output_type": "execute_result",
          "data": {
            "text/plain": [
              "            duration      days_left          price\n",
              "count  300153.000000  300153.000000  300153.000000\n",
              "mean       12.221021      26.004751   20889.660523\n",
              "std         7.191997      13.561004   22697.767366\n",
              "min         0.830000       1.000000    1105.000000\n",
              "25%         6.830000      15.000000    4783.000000\n",
              "50%        11.250000      26.000000    7425.000000\n",
              "75%        16.170000      38.000000   42521.000000\n",
              "max        49.830000      49.000000  123071.000000"
            ],
            "text/html": [
              "\n",
              "  <div id=\"df-950b857d-1a60-4ad4-aeb5-9d68786ba067\">\n",
              "    <div class=\"colab-df-container\">\n",
              "      <div>\n",
              "<style scoped>\n",
              "    .dataframe tbody tr th:only-of-type {\n",
              "        vertical-align: middle;\n",
              "    }\n",
              "\n",
              "    .dataframe tbody tr th {\n",
              "        vertical-align: top;\n",
              "    }\n",
              "\n",
              "    .dataframe thead th {\n",
              "        text-align: right;\n",
              "    }\n",
              "</style>\n",
              "<table border=\"1\" class=\"dataframe\">\n",
              "  <thead>\n",
              "    <tr style=\"text-align: right;\">\n",
              "      <th></th>\n",
              "      <th>duration</th>\n",
              "      <th>days_left</th>\n",
              "      <th>price</th>\n",
              "    </tr>\n",
              "  </thead>\n",
              "  <tbody>\n",
              "    <tr>\n",
              "      <th>count</th>\n",
              "      <td>300153.000000</td>\n",
              "      <td>300153.000000</td>\n",
              "      <td>300153.000000</td>\n",
              "    </tr>\n",
              "    <tr>\n",
              "      <th>mean</th>\n",
              "      <td>12.221021</td>\n",
              "      <td>26.004751</td>\n",
              "      <td>20889.660523</td>\n",
              "    </tr>\n",
              "    <tr>\n",
              "      <th>std</th>\n",
              "      <td>7.191997</td>\n",
              "      <td>13.561004</td>\n",
              "      <td>22697.767366</td>\n",
              "    </tr>\n",
              "    <tr>\n",
              "      <th>min</th>\n",
              "      <td>0.830000</td>\n",
              "      <td>1.000000</td>\n",
              "      <td>1105.000000</td>\n",
              "    </tr>\n",
              "    <tr>\n",
              "      <th>25%</th>\n",
              "      <td>6.830000</td>\n",
              "      <td>15.000000</td>\n",
              "      <td>4783.000000</td>\n",
              "    </tr>\n",
              "    <tr>\n",
              "      <th>50%</th>\n",
              "      <td>11.250000</td>\n",
              "      <td>26.000000</td>\n",
              "      <td>7425.000000</td>\n",
              "    </tr>\n",
              "    <tr>\n",
              "      <th>75%</th>\n",
              "      <td>16.170000</td>\n",
              "      <td>38.000000</td>\n",
              "      <td>42521.000000</td>\n",
              "    </tr>\n",
              "    <tr>\n",
              "      <th>max</th>\n",
              "      <td>49.830000</td>\n",
              "      <td>49.000000</td>\n",
              "      <td>123071.000000</td>\n",
              "    </tr>\n",
              "  </tbody>\n",
              "</table>\n",
              "</div>\n",
              "      <button class=\"colab-df-convert\" onclick=\"convertToInteractive('df-950b857d-1a60-4ad4-aeb5-9d68786ba067')\"\n",
              "              title=\"Convert this dataframe to an interactive table.\"\n",
              "              style=\"display:none;\">\n",
              "        \n",
              "  <svg xmlns=\"http://www.w3.org/2000/svg\" height=\"24px\"viewBox=\"0 0 24 24\"\n",
              "       width=\"24px\">\n",
              "    <path d=\"M0 0h24v24H0V0z\" fill=\"none\"/>\n",
              "    <path d=\"M18.56 5.44l.94 2.06.94-2.06 2.06-.94-2.06-.94-.94-2.06-.94 2.06-2.06.94zm-11 1L8.5 8.5l.94-2.06 2.06-.94-2.06-.94L8.5 2.5l-.94 2.06-2.06.94zm10 10l.94 2.06.94-2.06 2.06-.94-2.06-.94-.94-2.06-.94 2.06-2.06.94z\"/><path d=\"M17.41 7.96l-1.37-1.37c-.4-.4-.92-.59-1.43-.59-.52 0-1.04.2-1.43.59L10.3 9.45l-7.72 7.72c-.78.78-.78 2.05 0 2.83L4 21.41c.39.39.9.59 1.41.59.51 0 1.02-.2 1.41-.59l7.78-7.78 2.81-2.81c.8-.78.8-2.07 0-2.86zM5.41 20L4 18.59l7.72-7.72 1.47 1.35L5.41 20z\"/>\n",
              "  </svg>\n",
              "      </button>\n",
              "      \n",
              "  <style>\n",
              "    .colab-df-container {\n",
              "      display:flex;\n",
              "      flex-wrap:wrap;\n",
              "      gap: 12px;\n",
              "    }\n",
              "\n",
              "    .colab-df-convert {\n",
              "      background-color: #E8F0FE;\n",
              "      border: none;\n",
              "      border-radius: 50%;\n",
              "      cursor: pointer;\n",
              "      display: none;\n",
              "      fill: #1967D2;\n",
              "      height: 32px;\n",
              "      padding: 0 0 0 0;\n",
              "      width: 32px;\n",
              "    }\n",
              "\n",
              "    .colab-df-convert:hover {\n",
              "      background-color: #E2EBFA;\n",
              "      box-shadow: 0px 1px 2px rgba(60, 64, 67, 0.3), 0px 1px 3px 1px rgba(60, 64, 67, 0.15);\n",
              "      fill: #174EA6;\n",
              "    }\n",
              "\n",
              "    [theme=dark] .colab-df-convert {\n",
              "      background-color: #3B4455;\n",
              "      fill: #D2E3FC;\n",
              "    }\n",
              "\n",
              "    [theme=dark] .colab-df-convert:hover {\n",
              "      background-color: #434B5C;\n",
              "      box-shadow: 0px 1px 3px 1px rgba(0, 0, 0, 0.15);\n",
              "      filter: drop-shadow(0px 1px 2px rgba(0, 0, 0, 0.3));\n",
              "      fill: #FFFFFF;\n",
              "    }\n",
              "  </style>\n",
              "\n",
              "      <script>\n",
              "        const buttonEl =\n",
              "          document.querySelector('#df-950b857d-1a60-4ad4-aeb5-9d68786ba067 button.colab-df-convert');\n",
              "        buttonEl.style.display =\n",
              "          google.colab.kernel.accessAllowed ? 'block' : 'none';\n",
              "\n",
              "        async function convertToInteractive(key) {\n",
              "          const element = document.querySelector('#df-950b857d-1a60-4ad4-aeb5-9d68786ba067');\n",
              "          const dataTable =\n",
              "            await google.colab.kernel.invokeFunction('convertToInteractive',\n",
              "                                                     [key], {});\n",
              "          if (!dataTable) return;\n",
              "\n",
              "          const docLinkHtml = 'Like what you see? Visit the ' +\n",
              "            '<a target=\"_blank\" href=https://colab.research.google.com/notebooks/data_table.ipynb>data table notebook</a>'\n",
              "            + ' to learn more about interactive tables.';\n",
              "          element.innerHTML = '';\n",
              "          dataTable['output_type'] = 'display_data';\n",
              "          await google.colab.output.renderOutput(dataTable, element);\n",
              "          const docLink = document.createElement('div');\n",
              "          docLink.innerHTML = docLinkHtml;\n",
              "          element.appendChild(docLink);\n",
              "        }\n",
              "      </script>\n",
              "    </div>\n",
              "  </div>\n",
              "  "
            ]
          },
          "metadata": {},
          "execution_count": 43
        }
      ]
    },
    {
      "cell_type": "markdown",
      "source": [
        "# **EDA**"
      ],
      "metadata": {
        "id": "MyJIsCG4PDMY"
      }
    },
    {
      "cell_type": "code",
      "source": [
        "sns.FacetGrid(df,size=5).map(sns.distplot,\"price\").add_legend()"
      ],
      "metadata": {
        "colab": {
          "base_uri": "https://localhost:8080/",
          "height": 476
        },
        "id": "35qLD0dTGPye",
        "outputId": "690c8a26-3e67-4f1a-ff81-aac29097fb0a"
      },
      "execution_count": 31,
      "outputs": [
        {
          "output_type": "stream",
          "name": "stderr",
          "text": [
            "/usr/local/lib/python3.8/dist-packages/seaborn/axisgrid.py:337: UserWarning: The `size` parameter has been renamed to `height`; please update your code.\n",
            "  warnings.warn(msg, UserWarning)\n",
            "/usr/local/lib/python3.8/dist-packages/seaborn/distributions.py:2619: FutureWarning: `distplot` is a deprecated function and will be removed in a future version. Please adapt your code to use either `displot` (a figure-level function with similar flexibility) or `histplot` (an axes-level function for histograms).\n",
            "  warnings.warn(msg, FutureWarning)\n"
          ]
        },
        {
          "output_type": "execute_result",
          "data": {
            "text/plain": [
              "<seaborn.axisgrid.FacetGrid at 0x7fd2e0f56fa0>"
            ]
          },
          "metadata": {},
          "execution_count": 31
        },
        {
          "output_type": "display_data",
          "data": {
            "text/plain": [
              "<Figure size 368x360 with 1 Axes>"
            ],
            "image/png": "[encoded data removed]"
          },
          "metadata": {
            "needs_background": "light"
          }
        }
      ]
    },
    {
      "cell_type": "code",
      "source": [
        "plt.figure(figsize = (8, 8))\n",
        "plt.title('Graph')\n",
        "plt.xlabel('Airline Data')\n",
        "plt.ylabel('Price Data')\n",
        "plt.scatter(df['airline'],df['price'])"
      ],
      "metadata": {
        "colab": {
          "base_uri": "https://localhost:8080/",
          "height": 532
        },
        "id": "wVQmCdZuHczB",
        "outputId": "42fb11c5-6e7a-4d84-f43f-9af9600211d2"
      },
      "execution_count": null,
      "outputs": [
        {
          "output_type": "execute_result",
          "data": {
            "text/plain": [
              "<matplotlib.collections.PathCollection at 0x7f36425fb450>"
            ]
          },
          "metadata": {},
          "execution_count": 167
        },
        {
          "output_type": "display_data",
          "data": {
            "text/plain": [
              "<Figure size 576x576 with 1 Axes>"
            ],
            "image/png": "[encoded data removed]"
          },
          "metadata": {
            "needs_background": "light"
          }
        }
      ]
    },
    {
      "cell_type": "markdown",
      "source": [
        "In this graph it is found correlation between airline and price, high price in Vistara airline then Air_India and the other are the same price"
      ],
      "metadata": {
        "id": "sQdf7YJeB9vh"
      }
    },
    {
      "cell_type": "code",
      "source": [
        "plt.figure(figsize = (7, 4))\n",
        "plt.title('Graph')\n",
        "plt.xlabel('Departure Data')\n",
        "plt.ylabel('Price Data')\n",
        "\n",
        "plt.scatter(df['departure_time'],df['price'],s=30,alpha=1,color= 'c')"
      ],
      "metadata": {
        "colab": {
          "base_uri": "https://localhost:8080/",
          "height": 314
        },
        "id": "muvLB2JUHg_a",
        "outputId": "b1ff542a-a754-4325-fe1e-661fb3f2db43"
      },
      "execution_count": null,
      "outputs": [
        {
          "output_type": "execute_result",
          "data": {
            "text/plain": [
              "<matplotlib.collections.PathCollection at 0x7f36425c8150>"
            ]
          },
          "metadata": {},
          "execution_count": 168
        },
        {
          "output_type": "display_data",
          "data": {
            "text/plain": [
              "<Figure size 504x288 with 1 Axes>"
            ],
            "image/png": "[encoded data removed]"
          },
          "metadata": {
            "needs_background": "light"
          }
        }
      ]
    },
    {
      "cell_type": "markdown",
      "source": [
        "With regard to departure time, in the late night, the price is low"
      ],
      "metadata": {
        "id": "jMihKGLJCCap"
      }
    },
    {
      "cell_type": "code",
      "source": [
        "plt.figure(figsize = (7, 4))\n",
        "plt.title('Graph')\n",
        "plt.xlabel('Arrival time Data')\n",
        "plt.ylabel('Price Data')\n",
        "\n",
        "plt.scatter(df['arrival_time'],df['price'],s=30,alpha=1,color= 'k')"
      ],
      "metadata": {
        "colab": {
          "base_uri": "https://localhost:8080/",
          "height": 314
        },
        "id": "etWiKHSwHi7B",
        "outputId": "cac40fe7-fa7b-40e0-abc9-f36736c1d187"
      },
      "execution_count": null,
      "outputs": [
        {
          "output_type": "execute_result",
          "data": {
            "text/plain": [
              "<matplotlib.collections.PathCollection at 0x7f36425dd050>"
            ]
          },
          "metadata": {},
          "execution_count": 169
        },
        {
          "output_type": "display_data",
          "data": {
            "text/plain": [
              "<Figure size 504x288 with 1 Axes>"
            ],
            "image/png": "[encoded data removed]"
          },
          "metadata": {
            "needs_background": "light"
          }
        }
      ]
    },
    {
      "cell_type": "markdown",
      "source": [
        "With regard to arrival time, in the late night, the price is slightly low"
      ],
      "metadata": {
        "id": "68tE6PpiCKti"
      }
    },
    {
      "cell_type": "code",
      "source": [
        "plt.figure(figsize = (7, 4))\n",
        "plt.title('Graph')\n",
        "plt.xlabel('Source city Data')\n",
        "plt.ylabel('Price Data')\n",
        "\n",
        "plt.scatter(df['source_city'],df['price'],s=30,alpha=1,color= 'g')"
      ],
      "metadata": {
        "colab": {
          "base_uri": "https://localhost:8080/",
          "height": 313
        },
        "id": "iJvYz37FHklA",
        "outputId": "87efe2e0-4506-4bd2-f7eb-91a837f53ddf"
      },
      "execution_count": null,
      "outputs": [
        {
          "output_type": "execute_result",
          "data": {
            "text/plain": [
              "<matplotlib.collections.PathCollection at 0x7f3642537ad0>"
            ]
          },
          "metadata": {},
          "execution_count": 170
        },
        {
          "output_type": "display_data",
          "data": {
            "text/plain": [
              "<Figure size 504x288 with 1 Axes>"
            ],
            "image/png": "[encoded data removed]"
          },
          "metadata": {
            "needs_background": "light"
          }
        }
      ]
    },
    {
      "cell_type": "markdown",
      "source": [
        "In source city, the price is very close to each other"
      ],
      "metadata": {
        "id": "jC6CHI-dCOcP"
      }
    },
    {
      "cell_type": "code",
      "source": [
        "plt.figure(figsize = (7, 4))\n",
        "plt.title('Graph')\n",
        "plt.xlabel('Destination city Data')\n",
        "plt.ylabel('Price Data')\n",
        "\n",
        "plt.scatter(df['destination_city'],df['price'],s=30,alpha=1,color= 'y')"
      ],
      "metadata": {
        "colab": {
          "base_uri": "https://localhost:8080/",
          "height": 313
        },
        "id": "CJRLEwP7HkhS",
        "outputId": "734983e0-168a-4213-a584-3da7e8e87cc3"
      },
      "execution_count": null,
      "outputs": [
        {
          "output_type": "execute_result",
          "data": {
            "text/plain": [
              "<matplotlib.collections.PathCollection at 0x7f3642522310>"
            ]
          },
          "metadata": {},
          "execution_count": 171
        },
        {
          "output_type": "display_data",
          "data": {
            "text/plain": [
              "<Figure size 504x288 with 1 Axes>"
            ],
            "image/png": "[encoded data removed]"
          },
          "metadata": {
            "needs_background": "light"
          }
        }
      ]
    },
    {
      "cell_type": "markdown",
      "source": [
        "In destination city, the price also  very close to each other"
      ],
      "metadata": {
        "id": "TMski2HpCZ56"
      }
    },
    {
      "cell_type": "code",
      "source": [
        "plt.figure(figsize = (7, 4))\n",
        "plt.title('Graph')\n",
        "plt.xlabel('Class Data')\n",
        "plt.ylabel('Price Data')\n",
        "\n",
        "plt.scatter(df['class'],df['price'],s=30,alpha=1,color= 'm')"
      ],
      "metadata": {
        "colab": {
          "base_uri": "https://localhost:8080/",
          "height": 313
        },
        "id": "zPh4Fla_POGb",
        "outputId": "d0cc6851-2fe3-4fe2-c3a4-d6c499d486ed"
      },
      "execution_count": null,
      "outputs": [
        {
          "output_type": "execute_result",
          "data": {
            "text/plain": [
              "<matplotlib.collections.PathCollection at 0x7f364247ad10>"
            ]
          },
          "metadata": {},
          "execution_count": 172
        },
        {
          "output_type": "display_data",
          "data": {
            "text/plain": [
              "<Figure size 504x288 with 1 Axes>"
            ],
            "image/png": "[encoded data removed]"
          },
          "metadata": {
            "needs_background": "light"
          }
        }
      ]
    },
    {
      "cell_type": "markdown",
      "source": [
        "\n",
        "*   In economy class, the price of is cheap\n",
        "*   In business class, the price is expensive\n",
        "\n"
      ],
      "metadata": {
        "id": "gM-mdb08CghC"
      }
    },
    {
      "cell_type": "code",
      "source": [
        "plt.figure(figsize = (18,5))\n",
        "plt.subplot(1,2,1)\n",
        "sns.boxplot(data=df, y=\"price\", x=\"departure_time\",showfliers=False).set_title(\"Airline prices based on the departure time\",fontsize=15)\n",
        "plt.subplot(1,2,2)\n",
        "sns.boxplot(data=df, y=\"price\", x=\"arrival_time\",showfliers=False).set_title(\"Airline prices based on the arrival time\",fontsize=15)"
      ],
      "metadata": {
        "colab": {
          "base_uri": "https://localhost:8080/",
          "height": 372
        },
        "id": "QD3BoqJUOqRr",
        "outputId": "24c7950c-672b-4c76-8969-778f26606bca"
      },
      "execution_count": null,
      "outputs": [
        {
          "output_type": "execute_result",
          "data": {
            "text/plain": [
              "Text(0.5, 1.0, 'Airline prices based on the arrival time')"
            ]
          },
          "metadata": {},
          "execution_count": 173
        },
        {
          "output_type": "display_data",
          "data": {
            "text/plain": [
              "<Figure size 1296x360 with 2 Axes>"
            ],
            "image/png": "[encoded data removed]"
          },
          "metadata": {
            "needs_background": "light"
          }
        }
      ]
    },
    {
      "cell_type": "markdown",
      "source": [
        "1. **Departure Time Vs Ticket Price**\n",
        "\n",
        "*   Ticket Price is More for the Flights when the Departure Time is at Night\n",
        "*   Ticket Price is almost equal for flights Having Departure time at Early_morning , Morning and Evening\n",
        "\n",
        "*   Ticket Price is Low for the Flights Having Departure Time at Late_night\n",
        "\n",
        "2. **Arrival Time Vs Ticket Price**\n",
        "\n",
        "*   Ticket Price is More for the Flights when the Arrival Time is at Evening\n",
        "*   Ticket Price is almost equal for flights Having Arrival time is at Morning and Night\n",
        "\n",
        "*   Ticket Price is Low for the Flights Having Arrival Time at Late_night as same as Departure Time\n",
        "\n",
        "\n",
        "\n",
        "\n",
        "\n"
      ],
      "metadata": {
        "id": "KHBOBGIHDC2k"
      }
    },
    {
      "cell_type": "code",
      "source": [
        "plt.figure(figsize=(24,10))\n",
        "plt.subplot(1,2,1)\n",
        "sns.boxplot(x='source_city',y='price',data=df)\n",
        "plt.title('Source City Vs Ticket Price',fontsize=20)\n",
        "plt.xlabel('Source City',fontsize=15)\n",
        "plt.ylabel('Price',fontsize=15)\n",
        "plt.subplot(1,2,2)\n",
        "sns.boxplot(x='destination_city',y='price',data=df,palette='hls')\n",
        "plt.title('Destination City Vs Ticket Price',fontsize=20)\n",
        "plt.xlabel('Destination City',fontsize=15)\n",
        "plt.ylabel('Price',fontsize=15)\n",
        "plt.show()"
      ],
      "metadata": {
        "colab": {
          "base_uri": "https://localhost:8080/",
          "height": 297
        },
        "id": "_GKhLKeiL_w_",
        "outputId": "6882e6fe-68b7-4a3f-ae0b-b6b35a893837"
      },
      "execution_count": null,
      "outputs": [
        {
          "output_type": "display_data",
          "data": {
            "text/plain": [
              "<Figure size 1728x720 with 2 Axes>"
            ],
            "image/png": "[encoded data removed]"
          },
          "metadata": {
            "needs_background": "light"
          }
        }
      ]
    },
    {
      "cell_type": "markdown",
      "source": [
        "\n",
        "1. **Source City Vs Ticket Price**\n",
        "*   Ticket Price is More for the Flights whose Source City is Kolkata\n",
        "*   Ticket Price is almost equal for flights Having Source Cities as Mumbai and chennai , Hyderabad and Bangalore\n",
        "*   Ticket Price is Low for the Flights Having Source City as Delhi\n",
        "\n",
        "2. **Destination City Vs Ticket Price**\n",
        "\n",
        "*   Ticket Price is More for the Flights whose Destination City is kolkata and Chennai\n",
        "*   Ticket Price is almost equal for flights Having Destination Cities as Mumbai and Bangalore\n",
        "*   Ticket Price is Low for the Flights Having Destination City as Delhi\n",
        "\n",
        "\n",
        "\n"
      ],
      "metadata": {
        "id": "znYMCIWUDp-x"
      }
    },
    {
      "cell_type": "code",
      "source": [
        "fig, axs = plt.subplots (1, 2, gridspec_kw={'width_ratios': [5, 3]}, figsize=(25, 5))\n",
        "sns.barplot(y = \"price\", x = \"airline\",hue=\"stops\",data = df.loc[df[\"class\"]=='Economy'].sort_values(\"price\", ascending = False), ax=axs[0])\n",
        "axs[0].set_title(\"Airline prices based on the number of stops  for economy\",fontsize=20)\n",
        "sns.barplot(y = \"price\", x = \"airline\",hue=\"stops\",data = df.loc[df[\"class\"]=='Business'].sort_values(\"price\", ascending = False), ax=axs[1])\n",
        "axs[1].set_title(\"Airline prices based on the number of stops  for business\",fontsize=20)"
      ],
      "metadata": {
        "colab": {
          "base_uri": "https://localhost:8080/",
          "height": 374
        },
        "id": "srr2EOaXOeF9",
        "outputId": "6646d24e-9714-4b94-d019-c093ae791b93"
      },
      "execution_count": null,
      "outputs": [
        {
          "output_type": "execute_result",
          "data": {
            "text/plain": [
              "Text(0.5, 1.0, 'Airline prices based on the number of stops  for business')"
            ]
          },
          "metadata": {},
          "execution_count": 174
        },
        {
          "output_type": "display_data",
          "data": {
            "text/plain": [
              "<Figure size 1800x360 with 2 Axes>"
            ],
            "image/png": "[encoded data removed]"
          },
          "metadata": {
            "needs_background": "light"
          }
        }
      ]
    },
    {
      "cell_type": "markdown",
      "source": [
        "that the more stops there are the more expensive the flight is except for AirAsia where the prices seem more constant. The behavior and different analysis of AirAsia tend to show that it relates to a low-cost company."
      ],
      "metadata": {
        "id": "IEi0KZPTEQyq"
      }
    },
    {
      "cell_type": "code",
      "source": [
        "ax = sns.relplot(col=\"source_city\", y=\"price\", kind=\"line\",x='destination_city', data=df, col_wrap=3)\n",
        "ax.fig.subplots_adjust(top=0.9) \n",
        "ax.fig.suptitle('Airline prices based on the source and destination cities',fontsize=20)"
      ],
      "metadata": {
        "colab": {
          "base_uri": "https://localhost:8080/",
          "height": 745
        },
        "id": "ZAscKydvOjX9",
        "outputId": "42a1659e-d291-423a-e035-72f93aed5415"
      },
      "execution_count": null,
      "outputs": [
        {
          "output_type": "execute_result",
          "data": {
            "text/plain": [
              "Text(0.5, 0.98, 'Airline prices based on the source and destination cities')"
            ]
          },
          "metadata": {},
          "execution_count": 175
        },
        {
          "output_type": "display_data",
          "data": {
            "text/plain": [
              "<Figure size 1080x720 with 6 Axes>"
            ],
            "image/png": "[encoded data removed]"
          },
          "metadata": {
            "needs_background": "light"
          }
        }
      ]
    },
    {
      "cell_type": "markdown",
      "source": [
        "On one hand, it seems that flights leaving from Delhi are often cheaper than from other source cities and the capital is also the cheapest destination to go to probably because as capital city, the airport is the biggest and proposes more flights. On the other hand, the prices are more or less similar Hyderabad is the most expensive destination."
      ],
      "metadata": {
        "id": "3s6Z95bGFIuY"
      }
    },
    {
      "cell_type": "code",
      "source": [
        "fig, axs = plt.subplots (1, 2, gridspec_kw={'width_ratios': [5, 3]}, figsize=(25, 5))\n",
        "sns.violinplot(y = \"price\", x = \"airline\",data = df.loc[df[\"class\"]=='Economy'].sort_values(\"price\", ascending = False), kind=\"boxen\", ax=axs[0])\n",
        "axs[0].set_title(\"Airline prices based on companies for economy tickets\",fontsize=20)\n",
        "sns.violinplot(y = \"price\", x = \"airline\",data = df.loc[df[\"class\"]=='Business'].sort_values(\"price\", ascending = False), kind=\"boxen\", ax=axs[1])\n",
        "axs[1].set_title(\"Airline prices based on companies for business tickets\",fontsize=20)"
      ],
      "metadata": {
        "colab": {
          "base_uri": "https://localhost:8080/",
          "height": 374
        },
        "id": "mrPqrJLdIDBh",
        "outputId": "76517749-2e03-44b9-f36c-7e67d049d0e5"
      },
      "execution_count": null,
      "outputs": [
        {
          "output_type": "execute_result",
          "data": {
            "text/plain": [
              "Text(0.5, 1.0, 'Airline prices based on companies for business tickets')"
            ]
          },
          "metadata": {},
          "execution_count": 176
        },
        {
          "output_type": "display_data",
          "data": {
            "text/plain": [
              "<Figure size 1800x360 with 2 Axes>"
            ],
            "image/png": "[encoded data removed]"
          },
          "metadata": {
            "needs_background": "light"
          }
        }
      ]
    },
    {
      "cell_type": "markdown",
      "source": [
        "There are slight differences between each companies on this graph, AirAsia seems to have the cheapest flights when Air India and Vistara are more expensive. However it looks like Vistara's business tickets are a little more expensive than the Air India's ones."
      ],
      "metadata": {
        "id": "p2bGqItzGKup"
      }
    },
    {
      "cell_type": "markdown",
      "source": [
        "# **Data Pre-processing**"
      ],
      "metadata": {
        "id": "8cAXUYiE9uhn"
      }
    },
    {
      "cell_type": "code",
      "source": [
        "#Check Unique all column on dataset"
      ],
      "metadata": {
        "id": "mZ7SjvBe938d"
      },
      "execution_count": null,
      "outputs": []
    },
    {
      "cell_type": "code",
      "source": [
        "df.source_city.unique()"
      ],
      "metadata": {
        "colab": {
          "base_uri": "https://localhost:8080/"
        },
        "id": "Z5o4hLo8ll-b",
        "outputId": "c4a4d7d6-d614-458f-a0fe-e40f12be1937"
      },
      "execution_count": null,
      "outputs": [
        {
          "output_type": "execute_result",
          "data": {
            "text/plain": [
              "array(['Delhi', 'Mumbai', 'Bangalore', 'Kolkata', 'Hyderabad', 'Chennai'],\n",
              "      dtype=object)"
            ]
          },
          "metadata": {},
          "execution_count": 255
        }
      ]
    },
    {
      "cell_type": "code",
      "source": [
        "df.flight.unique()"
      ],
      "metadata": {
        "colab": {
          "base_uri": "https://localhost:8080/"
        },
        "id": "RbMFw-28llxH",
        "outputId": "4671ae9c-ade1-44e9-d2a9-d9908bfee9c9"
      },
      "execution_count": null,
      "outputs": [
        {
          "output_type": "execute_result",
          "data": {
            "text/plain": [
              "array(['SG-8709', 'SG-8157', 'I5-764', ..., '6E-7127', '6E-7259',\n",
              "       'AI-433'], dtype=object)"
            ]
          },
          "metadata": {},
          "execution_count": 256
        }
      ]
    },
    {
      "cell_type": "code",
      "source": [
        "df.departure_time.unique()"
      ],
      "metadata": {
        "colab": {
          "base_uri": "https://localhost:8080/"
        },
        "id": "I9VlEV7qVTKz",
        "outputId": "993dac01-9154-4fc5-d822-46cf1d3c5ceb"
      },
      "execution_count": null,
      "outputs": [
        {
          "output_type": "execute_result",
          "data": {
            "text/plain": [
              "array(['Evening', 'Early_Morning', 'Morning', 'Afternoon', 'Night',\n",
              "       'Late_Night'], dtype=object)"
            ]
          },
          "metadata": {},
          "execution_count": 181
        }
      ]
    },
    {
      "cell_type": "code",
      "source": [
        "df.arrival_time.unique()"
      ],
      "metadata": {
        "colab": {
          "base_uri": "https://localhost:8080/"
        },
        "id": "pSArOhjBVSzZ",
        "outputId": "274b8f5f-f2d2-4be2-c154-383177562748"
      },
      "execution_count": null,
      "outputs": [
        {
          "output_type": "execute_result",
          "data": {
            "text/plain": [
              "array(['Night', 'Morning', 'Early_Morning', 'Afternoon', 'Evening',\n",
              "       'Late_Night'], dtype=object)"
            ]
          },
          "metadata": {},
          "execution_count": 182
        }
      ]
    },
    {
      "cell_type": "code",
      "source": [
        "df.destination_city.unique()"
      ],
      "metadata": {
        "colab": {
          "base_uri": "https://localhost:8080/"
        },
        "id": "X0yYD048VSbk",
        "outputId": "3d28579f-d36b-41d6-c6b9-a4f74f5d2615"
      },
      "execution_count": null,
      "outputs": [
        {
          "output_type": "execute_result",
          "data": {
            "text/plain": [
              "array(['Mumbai', 'Bangalore', 'Kolkata', 'Hyderabad', 'Chennai', 'Delhi'],\n",
              "      dtype=object)"
            ]
          },
          "metadata": {},
          "execution_count": 183
        }
      ]
    },
    {
      "cell_type": "code",
      "source": [
        "df.airline.unique()"
      ],
      "metadata": {
        "colab": {
          "base_uri": "https://localhost:8080/"
        },
        "id": "gI0qlcuXVR9x",
        "outputId": "b6c549c5-cee7-4711-f560-2d25dda8737b"
      },
      "execution_count": null,
      "outputs": [
        {
          "output_type": "execute_result",
          "data": {
            "text/plain": [
              "array(['SpiceJet', 'AirAsia', 'Vistara', 'GO_FIRST', 'Indigo',\n",
              "       'Air_India'], dtype=object)"
            ]
          },
          "metadata": {},
          "execution_count": 184
        }
      ]
    },
    {
      "cell_type": "code",
      "source": [
        "df.stops.unique()"
      ],
      "metadata": {
        "colab": {
          "base_uri": "https://localhost:8080/"
        },
        "id": "gqjgtVVLVRgx",
        "outputId": "9974d725-ea77-4027-a63e-8452b65d68ef"
      },
      "execution_count": null,
      "outputs": [
        {
          "output_type": "execute_result",
          "data": {
            "text/plain": [
              "array(['zero', 'one', 'two_or_more'], dtype=object)"
            ]
          },
          "metadata": {},
          "execution_count": 185
        }
      ]
    },
    {
      "cell_type": "code",
      "source": [
        "# Creating a Back up File \n",
        "df_bk=df.copy()"
      ],
      "metadata": {
        "id": "nD4BGlnQN4tw"
      },
      "execution_count": 44,
      "outputs": []
    },
    {
      "cell_type": "code",
      "source": [
        "#Change column values from object to integer\n",
        "airline={'SpiceJet':0, 'AirAsia':1, 'GO_FIRST':2, 'Indigo':3, 'Air_India':4, 'Vistara':5}\n",
        "df['airline'] = df['airline'].replace(airline)\n",
        "\n",
        "stop={'zero':0, 'two_or_more':1, 'one':2}\n",
        "df['stops'] = df['stops'].replace(stop)\n",
        "\n",
        "class_ = {'Economy':0, 'Business':1}\n",
        "df['class'] = df['class'].replace(class_)\n"
      ],
      "metadata": {
        "id": "pCE40J6PAw8h"
      },
      "execution_count": 45,
      "outputs": []
    },
    {
      "cell_type": "code",
      "source": [
        "df['duration'] = df['duration'].astype('int')"
      ],
      "metadata": {
        "id": "F3FEhOfFnQhB"
      },
      "execution_count": 46,
      "outputs": []
    },
    {
      "cell_type": "code",
      "source": [
        "object_data = df.select_dtypes(include=['object'])\n",
        "#convert data of object type to numbers\n",
        "encoder = preprocessing.LabelEncoder()\n",
        "for i in range(object_data.shape[1]):\n",
        "    object_data.iloc[:, i] = encoder.fit_transform(object_data.iloc[:, i])\n",
        "\n",
        "#concat between data none object and data object after convert it\n",
        "num_data = df.select_dtypes(exclude=['object'])\n",
        "df = pd.concat([object_data, num_data], axis=1)"
      ],
      "metadata": {
        "colab": {
          "base_uri": "https://localhost:8080/"
        },
        "id": "1Jjr2aeBaU9J",
        "outputId": "368b894e-4d83-4d7f-b32c-31076987d3c7"
      },
      "execution_count": 47,
      "outputs": [
        {
          "output_type": "stream",
          "name": "stderr",
          "text": [
            "/usr/local/lib/python3.8/dist-packages/pandas/core/indexing.py:1951: SettingWithCopyWarning: \n",
            "A value is trying to be set on a copy of a slice from a DataFrame.\n",
            "Try using .loc[row_indexer,col_indexer] = value instead\n",
            "\n",
            "See the caveats in the documentation: https://pandas.pydata.org/pandas-docs/stable/user_guide/indexing.html#returning-a-view-versus-a-copy\n",
            "  self.obj[selected_item_labels] = value\n",
            "/usr/local/lib/python3.8/dist-packages/pandas/core/indexing.py:1773: SettingWithCopyWarning: \n",
            "A value is trying to be set on a copy of a slice from a DataFrame.\n",
            "Try using .loc[row_indexer,col_indexer] = value instead\n",
            "\n",
            "See the caveats in the documentation: https://pandas.pydata.org/pandas-docs/stable/user_guide/indexing.html#returning-a-view-versus-a-copy\n",
            "  self._setitem_single_column(ilocs[0], value, pi)\n"
          ]
        }
      ]
    },
    {
      "cell_type": "code",
      "source": [
        "# check new dataframe\n",
        "df"
      ],
      "metadata": {
        "colab": {
          "base_uri": "https://localhost:8080/",
          "height": 424
        },
        "id": "xdi_ZVABAwq3",
        "outputId": "d47ee668-32b0-4541-9cba-4c4b26761283"
      },
      "execution_count": 48,
      "outputs": [
        {
          "output_type": "execute_result",
          "data": {
            "text/plain": [
              "        flight  source_city  departure_time  arrival_time  destination_city  \\\n",
              "0         1408            2               2             5                 5   \n",
              "1         1387            2               1             4                 5   \n",
              "2         1213            2               1             1                 5   \n",
              "3         1559            2               4             0                 5   \n",
              "4         1549            2               4             4                 5   \n",
              "...        ...          ...             ...           ...               ...   \n",
              "300148    1477            1               4             2                 3   \n",
              "300149    1481            1               0             5                 3   \n",
              "300150    1486            1               1             5                 3   \n",
              "300151    1483            1               1             2                 3   \n",
              "300152    1477            1               4             2                 3   \n",
              "\n",
              "        airline  stops  class  duration  days_left  price  \n",
              "0             0      0      0         2          1   5953  \n",
              "1             0      0      0         2          1   5953  \n",
              "2             1      0      0         2          1   5956  \n",
              "3             5      0      0         2          1   5955  \n",
              "4             5      0      0         2          1   5955  \n",
              "...         ...    ...    ...       ...        ...    ...  \n",
              "300148        5      2      1        10         49  69265  \n",
              "300149        5      2      1        10         49  77105  \n",
              "300150        5      2      1        13         49  79099  \n",
              "300151        5      2      1        10         49  81585  \n",
              "300152        5      2      1        10         49  81585  \n",
              "\n",
              "[300153 rows x 11 columns]"
            ],
            "text/html": [
              "\n",
              "  <div id=\"df-332bbb3b-b14e-4cd1-8b35-39deec1bd7c1\">\n",
              "    <div class=\"colab-df-container\">\n",
              "      <div>\n",
              "<style scoped>\n",
              "    .dataframe tbody tr th:only-of-type {\n",
              "        vertical-align: middle;\n",
              "    }\n",
              "\n",
              "    .dataframe tbody tr th {\n",
              "        vertical-align: top;\n",
              "    }\n",
              "\n",
              "    .dataframe thead th {\n",
              "        text-align: right;\n",
              "    }\n",
              "</style>\n",
              "<table border=\"1\" class=\"dataframe\">\n",
              "  <thead>\n",
              "    <tr style=\"text-align: right;\">\n",
              "      <th></th>\n",
              "      <th>flight</th>\n",
              "      <th>source_city</th>\n",
              "      <th>departure_time</th>\n",
              "      <th>arrival_time</th>\n",
              "      <th>destination_city</th>\n",
              "      <th>airline</th>\n",
              "      <th>stops</th>\n",
              "      <th>class</th>\n",
              "      <th>duration</th>\n",
              "      <th>days_left</th>\n",
              "      <th>price</th>\n",
              "    </tr>\n",
              "  </thead>\n",
              "  <tbody>\n",
              "    <tr>\n",
              "      <th>0</th>\n",
              "      <td>1408</td>\n",
              "      <td>2</td>\n",
              "      <td>2</td>\n",
              "      <td>5</td>\n",
              "      <td>5</td>\n",
              "      <td>0</td>\n",
              "      <td>0</td>\n",
              "      <td>0</td>\n",
              "      <td>2</td>\n",
              "      <td>1</td>\n",
              "      <td>5953</td>\n",
              "    </tr>\n",
              "    <tr>\n",
              "      <th>1</th>\n",
              "      <td>1387</td>\n",
              "      <td>2</td>\n",
              "      <td>1</td>\n",
              "      <td>4</td>\n",
              "      <td>5</td>\n",
              "      <td>0</td>\n",
              "      <td>0</td>\n",
              "      <td>0</td>\n",
              "      <td>2</td>\n",
              "      <td>1</td>\n",
              "      <td>5953</td>\n",
              "    </tr>\n",
              "    <tr>\n",
              "      <th>2</th>\n",
              "      <td>1213</td>\n",
              "      <td>2</td>\n",
              "      <td>1</td>\n",
              "      <td>1</td>\n",
              "      <td>5</td>\n",
              "      <td>1</td>\n",
              "      <td>0</td>\n",
              "      <td>0</td>\n",
              "      <td>2</td>\n",
              "      <td>1</td>\n",
              "      <td>5956</td>\n",
              "    </tr>\n",
              "    <tr>\n",
              "      <th>3</th>\n",
              "      <td>1559</td>\n",
              "      <td>2</td>\n",
              "      <td>4</td>\n",
              "      <td>0</td>\n",
              "      <td>5</td>\n",
              "      <td>5</td>\n",
              "      <td>0</td>\n",
              "      <td>0</td>\n",
              "      <td>2</td>\n",
              "      <td>1</td>\n",
              "      <td>5955</td>\n",
              "    </tr>\n",
              "    <tr>\n",
              "      <th>4</th>\n",
              "      <td>1549</td>\n",
              "      <td>2</td>\n",
              "      <td>4</td>\n",
              "      <td>4</td>\n",
              "      <td>5</td>\n",
              "      <td>5</td>\n",
              "      <td>0</td>\n",
              "      <td>0</td>\n",
              "      <td>2</td>\n",
              "      <td>1</td>\n",
              "      <td>5955</td>\n",
              "    </tr>\n",
              "    <tr>\n",
              "      <th>...</th>\n",
              "      <td>...</td>\n",
              "      <td>...</td>\n",
              "      <td>...</td>\n",
              "      <td>...</td>\n",
              "      <td>...</td>\n",
              "      <td>...</td>\n",
              "      <td>...</td>\n",
              "      <td>...</td>\n",
              "      <td>...</td>\n",
              "      <td>...</td>\n",
              "      <td>...</td>\n",
              "    </tr>\n",
              "    <tr>\n",
              "      <th>300148</th>\n",
              "      <td>1477</td>\n",
              "      <td>1</td>\n",
              "      <td>4</td>\n",
              "      <td>2</td>\n",
              "      <td>3</td>\n",
              "      <td>5</td>\n",
              "      <td>2</td>\n",
              "      <td>1</td>\n",
              "      <td>10</td>\n",
              "      <td>49</td>\n",
              "      <td>69265</td>\n",
              "    </tr>\n",
              "    <tr>\n",
              "      <th>300149</th>\n",
              "      <td>1481</td>\n",
              "      <td>1</td>\n",
              "      <td>0</td>\n",
              "      <td>5</td>\n",
              "      <td>3</td>\n",
              "      <td>5</td>\n",
              "      <td>2</td>\n",
              "      <td>1</td>\n",
              "      <td>10</td>\n",
              "      <td>49</td>\n",
              "      <td>77105</td>\n",
              "    </tr>\n",
              "    <tr>\n",
              "      <th>300150</th>\n",
              "      <td>1486</td>\n",
              "      <td>1</td>\n",
              "      <td>1</td>\n",
              "      <td>5</td>\n",
              "      <td>3</td>\n",
              "      <td>5</td>\n",
              "      <td>2</td>\n",
              "      <td>1</td>\n",
              "      <td>13</td>\n",
              "      <td>49</td>\n",
              "      <td>79099</td>\n",
              "    </tr>\n",
              "    <tr>\n",
              "      <th>300151</th>\n",
              "      <td>1483</td>\n",
              "      <td>1</td>\n",
              "      <td>1</td>\n",
              "      <td>2</td>\n",
              "      <td>3</td>\n",
              "      <td>5</td>\n",
              "      <td>2</td>\n",
              "      <td>1</td>\n",
              "      <td>10</td>\n",
              "      <td>49</td>\n",
              "      <td>81585</td>\n",
              "    </tr>\n",
              "    <tr>\n",
              "      <th>300152</th>\n",
              "      <td>1477</td>\n",
              "      <td>1</td>\n",
              "      <td>4</td>\n",
              "      <td>2</td>\n",
              "      <td>3</td>\n",
              "      <td>5</td>\n",
              "      <td>2</td>\n",
              "      <td>1</td>\n",
              "      <td>10</td>\n",
              "      <td>49</td>\n",
              "      <td>81585</td>\n",
              "    </tr>\n",
              "  </tbody>\n",
              "</table>\n",
              "<p>300153 rows × 11 columns</p>\n",
              "</div>\n",
              "      <button class=\"colab-df-convert\" onclick=\"convertToInteractive('df-332bbb3b-b14e-4cd1-8b35-39deec1bd7c1')\"\n",
              "              title=\"Convert this dataframe to an interactive table.\"\n",
              "              style=\"display:none;\">\n",
              "        \n",
              "  <svg xmlns=\"http://www.w3.org/2000/svg\" height=\"24px\"viewBox=\"0 0 24 24\"\n",
              "       width=\"24px\">\n",
              "    <path d=\"M0 0h24v24H0V0z\" fill=\"none\"/>\n",
              "    <path d=\"M18.56 5.44l.94 2.06.94-2.06 2.06-.94-2.06-.94-.94-2.06-.94 2.06-2.06.94zm-11 1L8.5 8.5l.94-2.06 2.06-.94-2.06-.94L8.5 2.5l-.94 2.06-2.06.94zm10 10l.94 2.06.94-2.06 2.06-.94-2.06-.94-.94-2.06-.94 2.06-2.06.94z\"/><path d=\"M17.41 7.96l-1.37-1.37c-.4-.4-.92-.59-1.43-.59-.52 0-1.04.2-1.43.59L10.3 9.45l-7.72 7.72c-.78.78-.78 2.05 0 2.83L4 21.41c.39.39.9.59 1.41.59.51 0 1.02-.2 1.41-.59l7.78-7.78 2.81-2.81c.8-.78.8-2.07 0-2.86zM5.41 20L4 18.59l7.72-7.72 1.47 1.35L5.41 20z\"/>\n",
              "  </svg>\n",
              "      </button>\n",
              "      \n",
              "  <style>\n",
              "    .colab-df-container {\n",
              "      display:flex;\n",
              "      flex-wrap:wrap;\n",
              "      gap: 12px;\n",
              "    }\n",
              "\n",
              "    .colab-df-convert {\n",
              "      background-color: #E8F0FE;\n",
              "      border: none;\n",
              "      border-radius: 50%;\n",
              "      cursor: pointer;\n",
              "      display: none;\n",
              "      fill: #1967D2;\n",
              "      height: 32px;\n",
              "      padding: 0 0 0 0;\n",
              "      width: 32px;\n",
              "    }\n",
              "\n",
              "    .colab-df-convert:hover {\n",
              "      background-color: #E2EBFA;\n",
              "      box-shadow: 0px 1px 2px rgba(60, 64, 67, 0.3), 0px 1px 3px 1px rgba(60, 64, 67, 0.15);\n",
              "      fill: #174EA6;\n",
              "    }\n",
              "\n",
              "    [theme=dark] .colab-df-convert {\n",
              "      background-color: #3B4455;\n",
              "      fill: #D2E3FC;\n",
              "    }\n",
              "\n",
              "    [theme=dark] .colab-df-convert:hover {\n",
              "      background-color: #434B5C;\n",
              "      box-shadow: 0px 1px 3px 1px rgba(0, 0, 0, 0.15);\n",
              "      filter: drop-shadow(0px 1px 2px rgba(0, 0, 0, 0.3));\n",
              "      fill: #FFFFFF;\n",
              "    }\n",
              "  </style>\n",
              "\n",
              "      <script>\n",
              "        const buttonEl =\n",
              "          document.querySelector('#df-332bbb3b-b14e-4cd1-8b35-39deec1bd7c1 button.colab-df-convert');\n",
              "        buttonEl.style.display =\n",
              "          google.colab.kernel.accessAllowed ? 'block' : 'none';\n",
              "\n",
              "        async function convertToInteractive(key) {\n",
              "          const element = document.querySelector('#df-332bbb3b-b14e-4cd1-8b35-39deec1bd7c1');\n",
              "          const dataTable =\n",
              "            await google.colab.kernel.invokeFunction('convertToInteractive',\n",
              "                                                     [key], {});\n",
              "          if (!dataTable) return;\n",
              "\n",
              "          const docLinkHtml = 'Like what you see? Visit the ' +\n",
              "            '<a target=\"_blank\" href=https://colab.research.google.com/notebooks/data_table.ipynb>data table notebook</a>'\n",
              "            + ' to learn more about interactive tables.';\n",
              "          element.innerHTML = '';\n",
              "          dataTable['output_type'] = 'display_data';\n",
              "          await google.colab.output.renderOutput(dataTable, element);\n",
              "          const docLink = document.createElement('div');\n",
              "          docLink.innerHTML = docLinkHtml;\n",
              "          element.appendChild(docLink);\n",
              "        }\n",
              "      </script>\n",
              "    </div>\n",
              "  </div>\n",
              "  "
            ]
          },
          "metadata": {},
          "execution_count": 48
        }
      ]
    },
    {
      "cell_type": "code",
      "source": [
        "#Check new dataType\n",
        "df.info()"
      ],
      "metadata": {
        "colab": {
          "base_uri": "https://localhost:8080/"
        },
        "id": "pBKx8dh4AwSF",
        "outputId": "c3d58ac5-a18a-491c-fe07-b04a1e853341"
      },
      "execution_count": 49,
      "outputs": [
        {
          "output_type": "stream",
          "name": "stdout",
          "text": [
            "<class 'pandas.core.frame.DataFrame'>\n",
            "Int64Index: 300153 entries, 0 to 300152\n",
            "Data columns (total 11 columns):\n",
            " #   Column            Non-Null Count   Dtype\n",
            "---  ------            --------------   -----\n",
            " 0   flight            300153 non-null  int64\n",
            " 1   source_city       300153 non-null  int64\n",
            " 2   departure_time    300153 non-null  int64\n",
            " 3   arrival_time      300153 non-null  int64\n",
            " 4   destination_city  300153 non-null  int64\n",
            " 5   airline           300153 non-null  int64\n",
            " 6   stops             300153 non-null  int64\n",
            " 7   class             300153 non-null  int64\n",
            " 8   duration          300153 non-null  int64\n",
            " 9   days_left         300153 non-null  int64\n",
            " 10  price             300153 non-null  int64\n",
            "dtypes: int64(11)\n",
            "memory usage: 27.5 MB\n"
          ]
        }
      ]
    },
    {
      "cell_type": "code",
      "source": [
        "#Check Outliers Data\n",
        "Q1 = df.quantile(0.25)\n",
        "Q3 = df.quantile(0.75)\n",
        "IQR = Q3-Q1\n",
        "IQR"
      ],
      "metadata": {
        "colab": {
          "base_uri": "https://localhost:8080/"
        },
        "id": "_GlWZzpUpxXS",
        "outputId": "ecf38ff4-0900-4b75-c195-dcb0cf302e42"
      },
      "execution_count": 50,
      "outputs": [
        {
          "output_type": "execute_result",
          "data": {
            "text/plain": [
              "flight                703.0\n",
              "source_city             3.0\n",
              "departure_time          3.0\n",
              "arrival_time            3.0\n",
              "destination_city        3.0\n",
              "airline                 2.0\n",
              "stops                   0.0\n",
              "class                   1.0\n",
              "duration               10.0\n",
              "days_left              23.0\n",
              "price               37738.0\n",
              "dtype: float64"
            ]
          },
          "metadata": {},
          "execution_count": 50
        }
      ]
    },
    {
      "cell_type": "code",
      "source": [
        "#Check correlation \n",
        "df.corr().style.background_gradient().set_precision(2)"
      ],
      "metadata": {
        "colab": {
          "base_uri": "https://localhost:8080/",
          "height": 429
        },
        "id": "AvgPaJ7RBKCU",
        "outputId": "6411519b-5b3a-4e05-ae4d-01429eaf9a37"
      },
      "execution_count": 51,
      "outputs": [
        {
          "output_type": "stream",
          "name": "stderr",
          "text": [
            "<ipython-input-51-25c7be2adabc>:2: FutureWarning: this method is deprecated in favour of `Styler.format(precision=..)`\n",
            "  df.corr().style.background_gradient().set_precision(2)\n"
          ]
        },
        {
          "output_type": "execute_result",
          "data": {
            "text/plain": [
              "<pandas.io.formats.style.Styler at 0x7fd2dc5a20a0>"
            ],
            "text/html": [
              "<style type=\"text/css\">\n",
              "#T_3faef_row0_col0, #T_3faef_row1_col1, #T_3faef_row2_col2, #T_3faef_row3_col3, #T_3faef_row4_col4, #T_3faef_row5_col5, #T_3faef_row6_col6, #T_3faef_row7_col7, #T_3faef_row8_col8, #T_3faef_row9_col9, #T_3faef_row10_col10 {\n",
              "  background-color: #023858;\n",
              "  color: #f1f1f1;\n",
              "}\n",
              "#T_3faef_row0_col1, #T_3faef_row5_col4 {\n",
              "  background-color: #e1dfed;\n",
              "  color: #000000;\n",
              "}\n",
              "#T_3faef_row0_col2, #T_3faef_row6_col7, #T_3faef_row7_col6 {\n",
              "  background-color: #eee9f3;\n",
              "  color: #000000;\n",
              "}\n",
              "#T_3faef_row0_col3 {\n",
              "  background-color: #efe9f3;\n",
              "  color: #000000;\n",
              "}\n",
              "#T_3faef_row0_col4 {\n",
              "  background-color: #e6e2ef;\n",
              "  color: #000000;\n",
              "}\n",
              "#T_3faef_row0_col5 {\n",
              "  background-color: #8eb3d5;\n",
              "  color: #000000;\n",
              "}\n",
              "#T_3faef_row0_col6, #T_3faef_row5_col2, #T_3faef_row8_col2 {\n",
              "  background-color: #ece7f2;\n",
              "  color: #000000;\n",
              "}\n",
              "#T_3faef_row0_col7 {\n",
              "  background-color: #cacee5;\n",
              "  color: #000000;\n",
              "}\n",
              "#T_3faef_row0_col8, #T_3faef_row8_col0, #T_3faef_row10_col8 {\n",
              "  background-color: #d3d4e7;\n",
              "  color: #000000;\n",
              "}\n",
              "#T_3faef_row0_col9, #T_3faef_row1_col3, #T_3faef_row1_col10, #T_3faef_row2_col9, #T_3faef_row4_col10, #T_3faef_row5_col3, #T_3faef_row10_col3 {\n",
              "  background-color: #f2ecf5;\n",
              "  color: #000000;\n",
              "}\n",
              "#T_3faef_row0_col10 {\n",
              "  background-color: #a9bfdc;\n",
              "  color: #000000;\n",
              "}\n",
              "#T_3faef_row1_col0 {\n",
              "  background-color: #fbf4f9;\n",
              "  color: #000000;\n",
              "}\n",
              "#T_3faef_row1_col2, #T_3faef_row3_col7, #T_3faef_row4_col2, #T_3faef_row4_col8, #T_3faef_row9_col2, #T_3faef_row9_col3 {\n",
              "  background-color: #f9f2f8;\n",
              "  color: #000000;\n",
              "}\n",
              "#T_3faef_row1_col4, #T_3faef_row2_col3, #T_3faef_row3_col2, #T_3faef_row3_col6, #T_3faef_row4_col0, #T_3faef_row4_col1, #T_3faef_row9_col5, #T_3faef_row9_col7, #T_3faef_row9_col8, #T_3faef_row9_col10, #T_3faef_row10_col9 {\n",
              "  background-color: #fff7fb;\n",
              "  color: #000000;\n",
              "}\n",
              "#T_3faef_row1_col5, #T_3faef_row1_col7, #T_3faef_row2_col6, #T_3faef_row9_col6 {\n",
              "  background-color: #fdf5fa;\n",
              "  color: #000000;\n",
              "}\n",
              "#T_3faef_row1_col6, #T_3faef_row4_col3, #T_3faef_row4_col5, #T_3faef_row4_col7 {\n",
              "  background-color: #fef6fa;\n",
              "  color: #000000;\n",
              "}\n",
              "#T_3faef_row1_col8, #T_3faef_row3_col8, #T_3faef_row8_col9 {\n",
              "  background-color: #f8f1f8;\n",
              "  color: #000000;\n",
              "}\n",
              "#T_3faef_row1_col9, #T_3faef_row3_col9, #T_3faef_row4_col9 {\n",
              "  background-color: #f3edf5;\n",
              "  color: #000000;\n",
              "}\n",
              "#T_3faef_row2_col0, #T_3faef_row2_col5, #T_3faef_row3_col0, #T_3faef_row10_col2 {\n",
              "  background-color: #f0eaf4;\n",
              "  color: #000000;\n",
              "}\n",
              "#T_3faef_row2_col1, #T_3faef_row9_col1, #T_3faef_row9_col4 {\n",
              "  background-color: #e0deed;\n",
              "  color: #000000;\n",
              "}\n",
              "#T_3faef_row2_col4, #T_3faef_row5_col1, #T_3faef_row6_col1, #T_3faef_row7_col1, #T_3faef_row7_col4 {\n",
              "  background-color: #e0dded;\n",
              "  color: #000000;\n",
              "}\n",
              "#T_3faef_row2_col7, #T_3faef_row3_col5, #T_3faef_row5_col9 {\n",
              "  background-color: #f5eff6;\n",
              "  color: #000000;\n",
              "}\n",
              "#T_3faef_row2_col8 {\n",
              "  background-color: #ede8f3;\n",
              "  color: #000000;\n",
              "}\n",
              "#T_3faef_row2_col10 {\n",
              "  background-color: #e9e5f1;\n",
              "  color: #000000;\n",
              "}\n",
              "#T_3faef_row3_col1 {\n",
              "  background-color: #d8d7e9;\n",
              "  color: #000000;\n",
              "}\n",
              "#T_3faef_row3_col4, #T_3faef_row5_col6, #T_3faef_row6_col0, #T_3faef_row8_col7 {\n",
              "  background-color: #e7e3f0;\n",
              "  color: #000000;\n",
              "}\n",
              "#T_3faef_row3_col10 {\n",
              "  background-color: #ede7f2;\n",
              "  color: #000000;\n",
              "}\n",
              "#T_3faef_row4_col6 {\n",
              "  background-color: #fcf4fa;\n",
              "  color: #000000;\n",
              "}\n",
              "#T_3faef_row5_col0 {\n",
              "  background-color: #8bb2d4;\n",
              "  color: #000000;\n",
              "}\n",
              "#T_3faef_row5_col7 {\n",
              "  background-color: #99b8d8;\n",
              "  color: #000000;\n",
              "}\n",
              "#T_3faef_row5_col8 {\n",
              "  background-color: #c6cce3;\n",
              "  color: #000000;\n",
              "}\n",
              "#T_3faef_row5_col10 {\n",
              "  background-color: #7eadd1;\n",
              "  color: #f1f1f1;\n",
              "}\n",
              "#T_3faef_row6_col2, #T_3faef_row8_col3 {\n",
              "  background-color: #f7f0f7;\n",
              "  color: #000000;\n",
              "}\n",
              "#T_3faef_row6_col3, #T_3faef_row9_col0 {\n",
              "  background-color: #faf3f9;\n",
              "  color: #000000;\n",
              "}\n",
              "#T_3faef_row6_col4 {\n",
              "  background-color: #dddbec;\n",
              "  color: #000000;\n",
              "}\n",
              "#T_3faef_row6_col5 {\n",
              "  background-color: #e5e1ef;\n",
              "  color: #000000;\n",
              "}\n",
              "#T_3faef_row6_col8 {\n",
              "  background-color: #76aad0;\n",
              "  color: #f1f1f1;\n",
              "}\n",
              "#T_3faef_row6_col9 {\n",
              "  background-color: #f1ebf5;\n",
              "  color: #000000;\n",
              "}\n",
              "#T_3faef_row6_col10, #T_3faef_row8_col10 {\n",
              "  background-color: #c9cee4;\n",
              "  color: #000000;\n",
              "}\n",
              "#T_3faef_row7_col0 {\n",
              "  background-color: #c4cbe3;\n",
              "  color: #000000;\n",
              "}\n",
              "#T_3faef_row7_col2 {\n",
              "  background-color: #f1ebf4;\n",
              "  color: #000000;\n",
              "}\n",
              "#T_3faef_row7_col3, #T_3faef_row7_col9 {\n",
              "  background-color: #f4eef6;\n",
              "  color: #000000;\n",
              "}\n",
              "#T_3faef_row7_col5 {\n",
              "  background-color: #97b7d7;\n",
              "  color: #000000;\n",
              "}\n",
              "#T_3faef_row7_col8 {\n",
              "  background-color: #e2dfee;\n",
              "  color: #000000;\n",
              "}\n",
              "#T_3faef_row7_col10 {\n",
              "  background-color: #03476f;\n",
              "  color: #f1f1f1;\n",
              "}\n",
              "#T_3faef_row8_col1 {\n",
              "  background-color: #dedcec;\n",
              "  color: #000000;\n",
              "}\n",
              "#T_3faef_row8_col4, #T_3faef_row10_col1, #T_3faef_row10_col4 {\n",
              "  background-color: #dfddec;\n",
              "  color: #000000;\n",
              "}\n",
              "#T_3faef_row8_col5 {\n",
              "  background-color: #cccfe5;\n",
              "  color: #000000;\n",
              "}\n",
              "#T_3faef_row8_col6 {\n",
              "  background-color: #7dacd1;\n",
              "  color: #f1f1f1;\n",
              "}\n",
              "#T_3faef_row10_col0 {\n",
              "  background-color: #b5c4df;\n",
              "  color: #000000;\n",
              "}\n",
              "#T_3faef_row10_col5 {\n",
              "  background-color: #8cb3d5;\n",
              "  color: #000000;\n",
              "}\n",
              "#T_3faef_row10_col6 {\n",
              "  background-color: #d9d8ea;\n",
              "  color: #000000;\n",
              "}\n",
              "#T_3faef_row10_col7 {\n",
              "  background-color: #034871;\n",
              "  color: #f1f1f1;\n",
              "}\n",
              "</style>\n",
              "<table id=\"T_3faef_\" class=\"dataframe\">\n",
              "  <thead>\n",
              "    <tr>\n",
              "      <th class=\"blank level0\" >&nbsp;</th>\n",
              "      <th class=\"col_heading level0 col0\" >flight</th>\n",
              "      <th class=\"col_heading level0 col1\" >source_city</th>\n",
              "      <th class=\"col_heading level0 col2\" >departure_time</th>\n",
              "      <th class=\"col_heading level0 col3\" >arrival_time</th>\n",
              "      <th class=\"col_heading level0 col4\" >destination_city</th>\n",
              "      <th class=\"col_heading level0 col5\" >airline</th>\n",
              "      <th class=\"col_heading level0 col6\" >stops</th>\n",
              "      <th class=\"col_heading level0 col7\" >class</th>\n",
              "      <th class=\"col_heading level0 col8\" >duration</th>\n",
              "      <th class=\"col_heading level0 col9\" >days_left</th>\n",
              "      <th class=\"col_heading level0 col10\" >price</th>\n",
              "    </tr>\n",
              "  </thead>\n",
              "  <tbody>\n",
              "    <tr>\n",
              "      <th id=\"T_3faef_level0_row0\" class=\"row_heading level0 row0\" >flight</th>\n",
              "      <td id=\"T_3faef_row0_col0\" class=\"data row0 col0\" >1.00</td>\n",
              "      <td id=\"T_3faef_row0_col1\" class=\"data row0 col1\" >-0.01</td>\n",
              "      <td id=\"T_3faef_row0_col2\" class=\"data row0 col2\" >0.07</td>\n",
              "      <td id=\"T_3faef_row0_col3\" class=\"data row0 col3\" >0.07</td>\n",
              "      <td id=\"T_3faef_row0_col4\" class=\"data row0 col4\" >-0.04</td>\n",
              "      <td id=\"T_3faef_row0_col5\" class=\"data row0 col5\" >0.42</td>\n",
              "      <td id=\"T_3faef_row0_col6\" class=\"data row0 col6\" >0.12</td>\n",
              "      <td id=\"T_3faef_row0_col7\" class=\"data row0 col7\" >0.26</td>\n",
              "      <td id=\"T_3faef_row0_col8\" class=\"data row0 col8\" >0.21</td>\n",
              "      <td id=\"T_3faef_row0_col9\" class=\"data row0 col9\" >-0.00</td>\n",
              "      <td id=\"T_3faef_row0_col10\" class=\"data row0 col10\" >0.31</td>\n",
              "    </tr>\n",
              "    <tr>\n",
              "      <th id=\"T_3faef_level0_row1\" class=\"row_heading level0 row1\" >source_city</th>\n",
              "      <td id=\"T_3faef_row1_col0\" class=\"data row1 col0\" >-0.01</td>\n",
              "      <td id=\"T_3faef_row1_col1\" class=\"data row1 col1\" >1.00</td>\n",
              "      <td id=\"T_3faef_row1_col2\" class=\"data row1 col2\" >-0.00</td>\n",
              "      <td id=\"T_3faef_row1_col3\" class=\"data row1 col3\" >0.04</td>\n",
              "      <td id=\"T_3faef_row1_col4\" class=\"data row1 col4\" >-0.22</td>\n",
              "      <td id=\"T_3faef_row1_col5\" class=\"data row1 col5\" >-0.00</td>\n",
              "      <td id=\"T_3faef_row1_col6\" class=\"data row1 col6\" >-0.00</td>\n",
              "      <td id=\"T_3faef_row1_col7\" class=\"data row1 col7\" >-0.00</td>\n",
              "      <td id=\"T_3faef_row1_col8\" class=\"data row1 col8\" >0.01</td>\n",
              "      <td id=\"T_3faef_row1_col9\" class=\"data row1 col9\" >-0.00</td>\n",
              "      <td id=\"T_3faef_row1_col10\" class=\"data row1 col10\" >0.00</td>\n",
              "    </tr>\n",
              "    <tr>\n",
              "      <th id=\"T_3faef_level0_row2\" class=\"row_heading level0 row2\" >departure_time</th>\n",
              "      <td id=\"T_3faef_row2_col0\" class=\"data row2 col0\" >0.07</td>\n",
              "      <td id=\"T_3faef_row2_col1\" class=\"data row2 col1\" >-0.00</td>\n",
              "      <td id=\"T_3faef_row2_col2\" class=\"data row2 col2\" >1.00</td>\n",
              "      <td id=\"T_3faef_row2_col3\" class=\"data row2 col3\" >-0.05</td>\n",
              "      <td id=\"T_3faef_row2_col4\" class=\"data row2 col4\" >-0.00</td>\n",
              "      <td id=\"T_3faef_row2_col5\" class=\"data row2 col5\" >0.08</td>\n",
              "      <td id=\"T_3faef_row2_col6\" class=\"data row2 col6\" >0.01</td>\n",
              "      <td id=\"T_3faef_row2_col7\" class=\"data row2 col7\" >0.05</td>\n",
              "      <td id=\"T_3faef_row2_col8\" class=\"data row2 col8\" >0.09</td>\n",
              "      <td id=\"T_3faef_row2_col9\" class=\"data row2 col9\" >-0.00</td>\n",
              "      <td id=\"T_3faef_row2_col10\" class=\"data row2 col10\" >0.06</td>\n",
              "    </tr>\n",
              "    <tr>\n",
              "      <th id=\"T_3faef_level0_row3\" class=\"row_heading level0 row3\" >arrival_time</th>\n",
              "      <td id=\"T_3faef_row3_col0\" class=\"data row3 col0\" >0.07</td>\n",
              "      <td id=\"T_3faef_row3_col1\" class=\"data row3 col1\" >0.04</td>\n",
              "      <td id=\"T_3faef_row3_col2\" class=\"data row3 col2\" >-0.05</td>\n",
              "      <td id=\"T_3faef_row3_col3\" class=\"data row3 col3\" >1.00</td>\n",
              "      <td id=\"T_3faef_row3_col4\" class=\"data row3 col4\" >-0.04</td>\n",
              "      <td id=\"T_3faef_row3_col5\" class=\"data row3 col5\" >0.05</td>\n",
              "      <td id=\"T_3faef_row3_col6\" class=\"data row3 col6\" >-0.01</td>\n",
              "      <td id=\"T_3faef_row3_col7\" class=\"data row3 col7\" >0.03</td>\n",
              "      <td id=\"T_3faef_row3_col8\" class=\"data row3 col8\" >0.01</td>\n",
              "      <td id=\"T_3faef_row3_col9\" class=\"data row3 col9\" >-0.00</td>\n",
              "      <td id=\"T_3faef_row3_col10\" class=\"data row3 col10\" >0.04</td>\n",
              "    </tr>\n",
              "    <tr>\n",
              "      <th id=\"T_3faef_level0_row4\" class=\"row_heading level0 row4\" >destination_city</th>\n",
              "      <td id=\"T_3faef_row4_col0\" class=\"data row4 col0\" >-0.04</td>\n",
              "      <td id=\"T_3faef_row4_col1\" class=\"data row4 col1\" >-0.22</td>\n",
              "      <td id=\"T_3faef_row4_col2\" class=\"data row4 col2\" >-0.00</td>\n",
              "      <td id=\"T_3faef_row4_col3\" class=\"data row4 col3\" >-0.04</td>\n",
              "      <td id=\"T_3faef_row4_col4\" class=\"data row4 col4\" >1.00</td>\n",
              "      <td id=\"T_3faef_row4_col5\" class=\"data row4 col5\" >-0.01</td>\n",
              "      <td id=\"T_3faef_row4_col6\" class=\"data row4 col6\" >0.01</td>\n",
              "      <td id=\"T_3faef_row4_col7\" class=\"data row4 col7\" >-0.00</td>\n",
              "      <td id=\"T_3faef_row4_col8\" class=\"data row4 col8\" >0.00</td>\n",
              "      <td id=\"T_3faef_row4_col9\" class=\"data row4 col9\" >-0.01</td>\n",
              "      <td id=\"T_3faef_row4_col10\" class=\"data row4 col10\" >0.00</td>\n",
              "    </tr>\n",
              "    <tr>\n",
              "      <th id=\"T_3faef_level0_row5\" class=\"row_heading level0 row5\" >airline</th>\n",
              "      <td id=\"T_3faef_row5_col0\" class=\"data row5 col0\" >0.42</td>\n",
              "      <td id=\"T_3faef_row5_col1\" class=\"data row5 col1\" >-0.00</td>\n",
              "      <td id=\"T_3faef_row5_col2\" class=\"data row5 col2\" >0.08</td>\n",
              "      <td id=\"T_3faef_row5_col3\" class=\"data row5 col3\" >0.05</td>\n",
              "      <td id=\"T_3faef_row5_col4\" class=\"data row5 col4\" >-0.01</td>\n",
              "      <td id=\"T_3faef_row5_col5\" class=\"data row5 col5\" >1.00</td>\n",
              "      <td id=\"T_3faef_row5_col6\" class=\"data row5 col6\" >0.14</td>\n",
              "      <td id=\"T_3faef_row5_col7\" class=\"data row5 col7\" >0.40</td>\n",
              "      <td id=\"T_3faef_row5_col8\" class=\"data row5 col8\" >0.25</td>\n",
              "      <td id=\"T_3faef_row5_col9\" class=\"data row5 col9\" >-0.02</td>\n",
              "      <td id=\"T_3faef_row5_col10\" class=\"data row5 col10\" >0.43</td>\n",
              "    </tr>\n",
              "    <tr>\n",
              "      <th id=\"T_3faef_level0_row6\" class=\"row_heading level0 row6\" >stops</th>\n",
              "      <td id=\"T_3faef_row6_col0\" class=\"data row6 col0\" >0.12</td>\n",
              "      <td id=\"T_3faef_row6_col1\" class=\"data row6 col1\" >-0.00</td>\n",
              "      <td id=\"T_3faef_row6_col2\" class=\"data row6 col2\" >0.01</td>\n",
              "      <td id=\"T_3faef_row6_col3\" class=\"data row6 col3\" >-0.01</td>\n",
              "      <td id=\"T_3faef_row6_col4\" class=\"data row6 col4\" >0.01</td>\n",
              "      <td id=\"T_3faef_row6_col5\" class=\"data row6 col5\" >0.14</td>\n",
              "      <td id=\"T_3faef_row6_col6\" class=\"data row6 col6\" >1.00</td>\n",
              "      <td id=\"T_3faef_row6_col7\" class=\"data row6 col7\" >0.10</td>\n",
              "      <td id=\"T_3faef_row6_col8\" class=\"data row6 col8\" >0.47</td>\n",
              "      <td id=\"T_3faef_row6_col9\" class=\"data row6 col9\" >0.01</td>\n",
              "      <td id=\"T_3faef_row6_col10\" class=\"data row6 col10\" >0.20</td>\n",
              "    </tr>\n",
              "    <tr>\n",
              "      <th id=\"T_3faef_level0_row7\" class=\"row_heading level0 row7\" >class</th>\n",
              "      <td id=\"T_3faef_row7_col0\" class=\"data row7 col0\" >0.26</td>\n",
              "      <td id=\"T_3faef_row7_col1\" class=\"data row7 col1\" >-0.00</td>\n",
              "      <td id=\"T_3faef_row7_col2\" class=\"data row7 col2\" >0.05</td>\n",
              "      <td id=\"T_3faef_row7_col3\" class=\"data row7 col3\" >0.03</td>\n",
              "      <td id=\"T_3faef_row7_col4\" class=\"data row7 col4\" >-0.00</td>\n",
              "      <td id=\"T_3faef_row7_col5\" class=\"data row7 col5\" >0.40</td>\n",
              "      <td id=\"T_3faef_row7_col6\" class=\"data row7 col6\" >0.10</td>\n",
              "      <td id=\"T_3faef_row7_col7\" class=\"data row7 col7\" >1.00</td>\n",
              "      <td id=\"T_3faef_row7_col8\" class=\"data row7 col8\" >0.14</td>\n",
              "      <td id=\"T_3faef_row7_col9\" class=\"data row7 col9\" >-0.01</td>\n",
              "      <td id=\"T_3faef_row7_col10\" class=\"data row7 col10\" >0.94</td>\n",
              "    </tr>\n",
              "    <tr>\n",
              "      <th id=\"T_3faef_level0_row8\" class=\"row_heading level0 row8\" >duration</th>\n",
              "      <td id=\"T_3faef_row8_col0\" class=\"data row8 col0\" >0.21</td>\n",
              "      <td id=\"T_3faef_row8_col1\" class=\"data row8 col1\" >0.01</td>\n",
              "      <td id=\"T_3faef_row8_col2\" class=\"data row8 col2\" >0.09</td>\n",
              "      <td id=\"T_3faef_row8_col3\" class=\"data row8 col3\" >0.01</td>\n",
              "      <td id=\"T_3faef_row8_col4\" class=\"data row8 col4\" >0.00</td>\n",
              "      <td id=\"T_3faef_row8_col5\" class=\"data row8 col5\" >0.25</td>\n",
              "      <td id=\"T_3faef_row8_col6\" class=\"data row8 col6\" >0.47</td>\n",
              "      <td id=\"T_3faef_row8_col7\" class=\"data row8 col7\" >0.14</td>\n",
              "      <td id=\"T_3faef_row8_col8\" class=\"data row8 col8\" >1.00</td>\n",
              "      <td id=\"T_3faef_row8_col9\" class=\"data row8 col9\" >-0.04</td>\n",
              "      <td id=\"T_3faef_row8_col10\" class=\"data row8 col10\" >0.21</td>\n",
              "    </tr>\n",
              "    <tr>\n",
              "      <th id=\"T_3faef_level0_row9\" class=\"row_heading level0 row9\" >days_left</th>\n",
              "      <td id=\"T_3faef_row9_col0\" class=\"data row9 col0\" >-0.00</td>\n",
              "      <td id=\"T_3faef_row9_col1\" class=\"data row9 col1\" >-0.00</td>\n",
              "      <td id=\"T_3faef_row9_col2\" class=\"data row9 col2\" >-0.00</td>\n",
              "      <td id=\"T_3faef_row9_col3\" class=\"data row9 col3\" >-0.00</td>\n",
              "      <td id=\"T_3faef_row9_col4\" class=\"data row9 col4\" >-0.01</td>\n",
              "      <td id=\"T_3faef_row9_col5\" class=\"data row9 col5\" >-0.02</td>\n",
              "      <td id=\"T_3faef_row9_col6\" class=\"data row9 col6\" >0.01</td>\n",
              "      <td id=\"T_3faef_row9_col7\" class=\"data row9 col7\" >-0.01</td>\n",
              "      <td id=\"T_3faef_row9_col8\" class=\"data row9 col8\" >-0.04</td>\n",
              "      <td id=\"T_3faef_row9_col9\" class=\"data row9 col9\" >1.00</td>\n",
              "      <td id=\"T_3faef_row9_col10\" class=\"data row9 col10\" >-0.09</td>\n",
              "    </tr>\n",
              "    <tr>\n",
              "      <th id=\"T_3faef_level0_row10\" class=\"row_heading level0 row10\" >price</th>\n",
              "      <td id=\"T_3faef_row10_col0\" class=\"data row10 col0\" >0.31</td>\n",
              "      <td id=\"T_3faef_row10_col1\" class=\"data row10 col1\" >0.00</td>\n",
              "      <td id=\"T_3faef_row10_col2\" class=\"data row10 col2\" >0.06</td>\n",
              "      <td id=\"T_3faef_row10_col3\" class=\"data row10 col3\" >0.04</td>\n",
              "      <td id=\"T_3faef_row10_col4\" class=\"data row10 col4\" >0.00</td>\n",
              "      <td id=\"T_3faef_row10_col5\" class=\"data row10 col5\" >0.43</td>\n",
              "      <td id=\"T_3faef_row10_col6\" class=\"data row10 col6\" >0.20</td>\n",
              "      <td id=\"T_3faef_row10_col7\" class=\"data row10 col7\" >0.94</td>\n",
              "      <td id=\"T_3faef_row10_col8\" class=\"data row10 col8\" >0.21</td>\n",
              "      <td id=\"T_3faef_row10_col9\" class=\"data row10 col9\" >-0.09</td>\n",
              "      <td id=\"T_3faef_row10_col10\" class=\"data row10 col10\" >1.00</td>\n",
              "    </tr>\n",
              "  </tbody>\n",
              "</table>\n"
            ]
          },
          "metadata": {},
          "execution_count": 51
        }
      ]
    },
    {
      "cell_type": "markdown",
      "source": [
        "The correlation among all features"
      ],
      "metadata": {
        "id": "yQjNJTlWCy0E"
      }
    },
    {
      "cell_type": "markdown",
      "source": [
        "# **Data Modelling**"
      ],
      "metadata": {
        "id": "IOKLHGkO8uNe"
      }
    },
    {
      "cell_type": "code",
      "source": [
        "#Splitting DataSet\n",
        "x = df.drop(['price'], axis = 1)\n",
        "y = df['price']\n",
        "\n",
        "x_train, x_test, y_train, y_test = train_test_split(x, y, test_size=0.25, random_state=42)"
      ],
      "metadata": {
        "id": "vj-BFZKpBJ-f"
      },
      "execution_count": 52,
      "outputs": []
    },
    {
      "cell_type": "code",
      "source": [
        "x_train.shape,x_test.shape,y_train.shape,y_test.shape"
      ],
      "metadata": {
        "colab": {
          "base_uri": "https://localhost:8080/"
        },
        "id": "vFVhMejEOafl",
        "outputId": "7a46e438-39eb-41ad-c8a2-0e114e705227"
      },
      "execution_count": 53,
      "outputs": [
        {
          "output_type": "execute_result",
          "data": {
            "text/plain": [
              "((225114, 10), (75039, 10), (225114,), (75039,))"
            ]
          },
          "metadata": {},
          "execution_count": 53
        }
      ]
    },
    {
      "cell_type": "code",
      "source": [
        "#Define the best model\n",
        "lin_reg = LinearRegression()\n",
        "rfr = RandomForestRegressor()\n",
        "\n",
        "# Evalution matrix for all the algorithms\n",
        "MM = [lin_reg , rfr]\n",
        "\n",
        "for models in MM:\n",
        "    # Fit the model with train data\n",
        "    models.fit(x_train, y_train)\n",
        "    # Predict the model with test data\n",
        "    y_pred = models.predict(x_test)\n",
        "    # Print the model name\n",
        "    print('Model Name: ', models)\n",
        "    # Evaluation metrics for Regression analysis\n",
        "    from sklearn import metrics\n",
        "    print('Mean Absolute Error (MAE):', round(metrics.mean_absolute_error(y_test, y_pred),3))  \n",
        "    print('Mean Squared Error (MSE):', round(metrics.mean_squared_error(y_test, y_pred),3))  \n",
        "    print('Root Mean Squared Error (RMSE):', round(np.sqrt(metrics.mean_squared_error(y_test, y_pred)),3))\n",
        "    print('R2_score (accuracy):', round(metrics.r2_score(y_test, y_pred),6))\n",
        "    print('------------------------------------------------------------------------------------------------------------')\n"
      ],
      "metadata": {
        "colab": {
          "base_uri": "https://localhost:8080/"
        },
        "id": "IFV69Mv2BJ5j",
        "outputId": "510497fe-89e1-4f4d-8ece-dd6dab1c6da0"
      },
      "execution_count": 54,
      "outputs": [
        {
          "output_type": "stream",
          "name": "stdout",
          "text": [
            "Model Name:  LinearRegression()\n",
            "Mean Absolute Error (MAE): 4629.295\n",
            "Mean Squared Error (MSE): 50350175.02\n",
            "Root Mean Squared Error (RMSE): 7095.786\n",
            "R2_score (accuracy): 0.90235\n",
            "------------------------------------------------------------------------------------------------------------\n",
            "Model Name:  RandomForestRegressor()\n",
            "Mean Absolute Error (MAE): 952.568\n",
            "Mean Squared Error (MSE): 6365450.05\n",
            "Root Mean Squared Error (RMSE): 2522.984\n",
            "R2_score (accuracy): 0.987655\n",
            "------------------------------------------------------------------------------------------------------------\n"
          ]
        }
      ]
    },
    {
      "cell_type": "code",
      "source": [
        "#Apply the model Random Forest \n",
        "#Training Random Forest model \n",
        "rfr.fit(x_train, y_train)\n",
        "    \n",
        "# Predict the model with test data\n",
        "\n",
        "y_pred = rfr.predict(x_test)\n",
        "\n",
        "out=pd.DataFrame({'Price_actual':y_test,'Price_pred':y_pred})\n",
        "result=df_bk.merge(out,left_index=True,right_index=True)\n",
        "\n",
        "#Result Price prediction of each column with Price actual using Random Forest\n",
        "result.sample(10)"
      ],
      "metadata": {
        "id": "HxGhAHd5NLI3",
        "colab": {
          "base_uri": "https://localhost:8080/",
          "height": 363
        },
        "outputId": "1480d6e1-92c0-4bf8-9496-7a94346282a6"
      },
      "execution_count": 55,
      "outputs": [
        {
          "output_type": "execute_result",
          "data": {
            "text/plain": [
              "          airline  flight source_city departure_time stops arrival_time  \\\n",
              "87703     Vistara  UK-852   Bangalore        Morning   one        Night   \n",
              "278372  Air_India  AI-542   Hyderabad      Afternoon   one    Afternoon   \n",
              "106366    Vistara  UK-852   Bangalore        Morning   one      Evening   \n",
              "268001    Vistara  UK-720     Kolkata  Early_Morning   one        Night   \n",
              "239047    Vistara  UK-996      Mumbai        Evening   one      Morning   \n",
              "117953    Vistara  UK-818   Bangalore        Evening   one      Evening   \n",
              "268444    Vistara  UK-738     Kolkata        Evening   one      Evening   \n",
              "47028     Vistara  UK-853      Mumbai      Afternoon   one        Night   \n",
              "176517  Air_India  AI-838   Hyderabad      Afternoon   one      Evening   \n",
              "198048    Vistara  UK-822     Chennai        Morning   one      Evening   \n",
              "\n",
              "       destination_city     class  duration  days_left  price  Price_actual  \\\n",
              "87703             Delhi   Economy     12.42         20   4111          4111   \n",
              "278372           Mumbai  Business     23.67         20  29954         29954   \n",
              "106366          Kolkata   Economy      7.33         27   6271          6271   \n",
              "268001        Bangalore  Business     13.25         13  60978         60978   \n",
              "239047        Hyderabad  Business     15.17         16  60365         60365   \n",
              "117953          Chennai   Economy     20.67         30   6510          6510   \n",
              "268444        Bangalore  Business     22.25         20  60978         60978   \n",
              "47028             Delhi   Economy      6.42         22   6122          6122   \n",
              "176517          Chennai   Economy      6.00          4  13168         13168   \n",
              "198048          Kolkata   Economy     10.17          5  11069         11069   \n",
              "\n",
              "        Price_pred  \n",
              "87703      4131.80  \n",
              "278372    30113.29  \n",
              "106366     6399.60  \n",
              "268001    60978.00  \n",
              "239047    60576.02  \n",
              "117953     6463.27  \n",
              "268444    60978.00  \n",
              "47028      6122.00  \n",
              "176517    13416.36  \n",
              "198048    14582.77  "
            ],
            "text/html": [
              "\n",
              "  <div id=\"df-4fc9577f-5220-41b4-886e-c99e092d9d00\">\n",
              "    <div class=\"colab-df-container\">\n",
              "      <div>\n",
              "<style scoped>\n",
              "    .dataframe tbody tr th:only-of-type {\n",
              "        vertical-align: middle;\n",
              "    }\n",
              "\n",
              "    .dataframe tbody tr th {\n",
              "        vertical-align: top;\n",
              "    }\n",
              "\n",
              "    .dataframe thead th {\n",
              "        text-align: right;\n",
              "    }\n",
              "</style>\n",
              "<table border=\"1\" class=\"dataframe\">\n",
              "  <thead>\n",
              "    <tr style=\"text-align: right;\">\n",
              "      <th></th>\n",
              "      <th>airline</th>\n",
              "      <th>flight</th>\n",
              "      <th>source_city</th>\n",
              "      <th>departure_time</th>\n",
              "      <th>stops</th>\n",
              "      <th>arrival_time</th>\n",
              "      <th>destination_city</th>\n",
              "      <th>class</th>\n",
              "      <th>duration</th>\n",
              "      <th>days_left</th>\n",
              "      <th>price</th>\n",
              "      <th>Price_actual</th>\n",
              "      <th>Price_pred</th>\n",
              "    </tr>\n",
              "  </thead>\n",
              "  <tbody>\n",
              "    <tr>\n",
              "      <th>87703</th>\n",
              "      <td>Vistara</td>\n",
              "      <td>UK-852</td>\n",
              "      <td>Bangalore</td>\n",
              "      <td>Morning</td>\n",
              "      <td>one</td>\n",
              "      <td>Night</td>\n",
              "      <td>Delhi</td>\n",
              "      <td>Economy</td>\n",
              "      <td>12.42</td>\n",
              "      <td>20</td>\n",
              "      <td>4111</td>\n",
              "      <td>4111</td>\n",
              "      <td>4131.80</td>\n",
              "    </tr>\n",
              "    <tr>\n",
              "      <th>278372</th>\n",
              "      <td>Air_India</td>\n",
              "      <td>AI-542</td>\n",
              "      <td>Hyderabad</td>\n",
              "      <td>Afternoon</td>\n",
              "      <td>one</td>\n",
              "      <td>Afternoon</td>\n",
              "      <td>Mumbai</td>\n",
              "      <td>Business</td>\n",
              "      <td>23.67</td>\n",
              "      <td>20</td>\n",
              "      <td>29954</td>\n",
              "      <td>29954</td>\n",
              "      <td>30113.29</td>\n",
              "    </tr>\n",
              "    <tr>\n",
              "      <th>106366</th>\n",
              "      <td>Vistara</td>\n",
              "      <td>UK-852</td>\n",
              "      <td>Bangalore</td>\n",
              "      <td>Morning</td>\n",
              "      <td>one</td>\n",
              "      <td>Evening</td>\n",
              "      <td>Kolkata</td>\n",
              "      <td>Economy</td>\n",
              "      <td>7.33</td>\n",
              "      <td>27</td>\n",
              "      <td>6271</td>\n",
              "      <td>6271</td>\n",
              "      <td>6399.60</td>\n",
              "    </tr>\n",
              "    <tr>\n",
              "      <th>268001</th>\n",
              "      <td>Vistara</td>\n",
              "      <td>UK-720</td>\n",
              "      <td>Kolkata</td>\n",
              "      <td>Early_Morning</td>\n",
              "      <td>one</td>\n",
              "      <td>Night</td>\n",
              "      <td>Bangalore</td>\n",
              "      <td>Business</td>\n",
              "      <td>13.25</td>\n",
              "      <td>13</td>\n",
              "      <td>60978</td>\n",
              "      <td>60978</td>\n",
              "      <td>60978.00</td>\n",
              "    </tr>\n",
              "    <tr>\n",
              "      <th>239047</th>\n",
              "      <td>Vistara</td>\n",
              "      <td>UK-996</td>\n",
              "      <td>Mumbai</td>\n",
              "      <td>Evening</td>\n",
              "      <td>one</td>\n",
              "      <td>Morning</td>\n",
              "      <td>Hyderabad</td>\n",
              "      <td>Business</td>\n",
              "      <td>15.17</td>\n",
              "      <td>16</td>\n",
              "      <td>60365</td>\n",
              "      <td>60365</td>\n",
              "      <td>60576.02</td>\n",
              "    </tr>\n",
              "    <tr>\n",
              "      <th>117953</th>\n",
              "      <td>Vistara</td>\n",
              "      <td>UK-818</td>\n",
              "      <td>Bangalore</td>\n",
              "      <td>Evening</td>\n",
              "      <td>one</td>\n",
              "      <td>Evening</td>\n",
              "      <td>Chennai</td>\n",
              "      <td>Economy</td>\n",
              "      <td>20.67</td>\n",
              "      <td>30</td>\n",
              "      <td>6510</td>\n",
              "      <td>6510</td>\n",
              "      <td>6463.27</td>\n",
              "    </tr>\n",
              "    <tr>\n",
              "      <th>268444</th>\n",
              "      <td>Vistara</td>\n",
              "      <td>UK-738</td>\n",
              "      <td>Kolkata</td>\n",
              "      <td>Evening</td>\n",
              "      <td>one</td>\n",
              "      <td>Evening</td>\n",
              "      <td>Bangalore</td>\n",
              "      <td>Business</td>\n",
              "      <td>22.25</td>\n",
              "      <td>20</td>\n",
              "      <td>60978</td>\n",
              "      <td>60978</td>\n",
              "      <td>60978.00</td>\n",
              "    </tr>\n",
              "    <tr>\n",
              "      <th>47028</th>\n",
              "      <td>Vistara</td>\n",
              "      <td>UK-853</td>\n",
              "      <td>Mumbai</td>\n",
              "      <td>Afternoon</td>\n",
              "      <td>one</td>\n",
              "      <td>Night</td>\n",
              "      <td>Delhi</td>\n",
              "      <td>Economy</td>\n",
              "      <td>6.42</td>\n",
              "      <td>22</td>\n",
              "      <td>6122</td>\n",
              "      <td>6122</td>\n",
              "      <td>6122.00</td>\n",
              "    </tr>\n",
              "    <tr>\n",
              "      <th>176517</th>\n",
              "      <td>Air_India</td>\n",
              "      <td>AI-838</td>\n",
              "      <td>Hyderabad</td>\n",
              "      <td>Afternoon</td>\n",
              "      <td>one</td>\n",
              "      <td>Evening</td>\n",
              "      <td>Chennai</td>\n",
              "      <td>Economy</td>\n",
              "      <td>6.00</td>\n",
              "      <td>4</td>\n",
              "      <td>13168</td>\n",
              "      <td>13168</td>\n",
              "      <td>13416.36</td>\n",
              "    </tr>\n",
              "    <tr>\n",
              "      <th>198048</th>\n",
              "      <td>Vistara</td>\n",
              "      <td>UK-822</td>\n",
              "      <td>Chennai</td>\n",
              "      <td>Morning</td>\n",
              "      <td>one</td>\n",
              "      <td>Evening</td>\n",
              "      <td>Kolkata</td>\n",
              "      <td>Economy</td>\n",
              "      <td>10.17</td>\n",
              "      <td>5</td>\n",
              "      <td>11069</td>\n",
              "      <td>11069</td>\n",
              "      <td>14582.77</td>\n",
              "    </tr>\n",
              "  </tbody>\n",
              "</table>\n",
              "</div>\n",
              "      <button class=\"colab-df-convert\" onclick=\"convertToInteractive('df-4fc9577f-5220-41b4-886e-c99e092d9d00')\"\n",
              "              title=\"Convert this dataframe to an interactive table.\"\n",
              "              style=\"display:none;\">\n",
              "        \n",
              "  <svg xmlns=\"http://www.w3.org/2000/svg\" height=\"24px\"viewBox=\"0 0 24 24\"\n",
              "       width=\"24px\">\n",
              "    <path d=\"M0 0h24v24H0V0z\" fill=\"none\"/>\n",
              "    <path d=\"M18.56 5.44l.94 2.06.94-2.06 2.06-.94-2.06-.94-.94-2.06-.94 2.06-2.06.94zm-11 1L8.5 8.5l.94-2.06 2.06-.94-2.06-.94L8.5 2.5l-.94 2.06-2.06.94zm10 10l.94 2.06.94-2.06 2.06-.94-2.06-.94-.94-2.06-.94 2.06-2.06.94z\"/><path d=\"M17.41 7.96l-1.37-1.37c-.4-.4-.92-.59-1.43-.59-.52 0-1.04.2-1.43.59L10.3 9.45l-7.72 7.72c-.78.78-.78 2.05 0 2.83L4 21.41c.39.39.9.59 1.41.59.51 0 1.02-.2 1.41-.59l7.78-7.78 2.81-2.81c.8-.78.8-2.07 0-2.86zM5.41 20L4 18.59l7.72-7.72 1.47 1.35L5.41 20z\"/>\n",
              "  </svg>\n",
              "      </button>\n",
              "      \n",
              "  <style>\n",
              "    .colab-df-container {\n",
              "      display:flex;\n",
              "      flex-wrap:wrap;\n",
              "      gap: 12px;\n",
              "    }\n",
              "\n",
              "    .colab-df-convert {\n",
              "      background-color: #E8F0FE;\n",
              "      border: none;\n",
              "      border-radius: 50%;\n",
              "      cursor: pointer;\n",
              "      display: none;\n",
              "      fill: #1967D2;\n",
              "      height: 32px;\n",
              "      padding: 0 0 0 0;\n",
              "      width: 32px;\n",
              "    }\n",
              "\n",
              "    .colab-df-convert:hover {\n",
              "      background-color: #E2EBFA;\n",
              "      box-shadow: 0px 1px 2px rgba(60, 64, 67, 0.3), 0px 1px 3px 1px rgba(60, 64, 67, 0.15);\n",
              "      fill: #174EA6;\n",
              "    }\n",
              "\n",
              "    [theme=dark] .colab-df-convert {\n",
              "      background-color: #3B4455;\n",
              "      fill: #D2E3FC;\n",
              "    }\n",
              "\n",
              "    [theme=dark] .colab-df-convert:hover {\n",
              "      background-color: #434B5C;\n",
              "      box-shadow: 0px 1px 3px 1px rgba(0, 0, 0, 0.15);\n",
              "      filter: drop-shadow(0px 1px 2px rgba(0, 0, 0, 0.3));\n",
              "      fill: #FFFFFF;\n",
              "    }\n",
              "  </style>\n",
              "\n",
              "      <script>\n",
              "        const buttonEl =\n",
              "          document.querySelector('#df-4fc9577f-5220-41b4-886e-c99e092d9d00 button.colab-df-convert');\n",
              "        buttonEl.style.display =\n",
              "          google.colab.kernel.accessAllowed ? 'block' : 'none';\n",
              "\n",
              "        async function convertToInteractive(key) {\n",
              "          const element = document.querySelector('#df-4fc9577f-5220-41b4-886e-c99e092d9d00');\n",
              "          const dataTable =\n",
              "            await google.colab.kernel.invokeFunction('convertToInteractive',\n",
              "                                                     [key], {});\n",
              "          if (!dataTable) return;\n",
              "\n",
              "          const docLinkHtml = 'Like what you see? Visit the ' +\n",
              "            '<a target=\"_blank\" href=https://colab.research.google.com/notebooks/data_table.ipynb>data table notebook</a>'\n",
              "            + ' to learn more about interactive tables.';\n",
              "          element.innerHTML = '';\n",
              "          dataTable['output_type'] = 'display_data';\n",
              "          await google.colab.output.renderOutput(dataTable, element);\n",
              "          const docLink = document.createElement('div');\n",
              "          docLink.innerHTML = docLinkHtml;\n",
              "          element.appendChild(docLink);\n",
              "        }\n",
              "      </script>\n",
              "    </div>\n",
              "  </div>\n",
              "  "
            ]
          },
          "metadata": {},
          "execution_count": 55
        }
      ]
    },
    {
      "cell_type": "markdown",
      "source": [
        "# **conclusion**\n",
        "\n",
        "\n",
        "1. The model that gives the best result is the Random Forest with on the test dataset an R^2 score equals to 0.987655, an MAE score equal to 952.568 and RMSE score equal 2522.984. \n",
        "\n",
        "2. There is a big gap between flight tickets in business and economy. In average business tickets are 6.5 times more expensive than economy tickets.\n",
        "\n",
        "3. Vistara and Air India seem to be the most expensive companies and AirAsia are the cheapest. However for business tickets, only Vistara and Air India are available, and Vistara is slightly more expensive.\n",
        "\n",
        "4. In general, prices rise quite slowly until 20 days before the flight when the prices rise drastically. But one day before the flight, there usually are empty seats that have not been sold. Thus it is possible to find tickets three times cheaper than the day before.\n",
        "\n",
        "5. The longer the flight is the more expensive the tickets are until it reaches around 20 hours, then the prices tend to decrease.\n",
        "\n",
        "6. For the time of the flight:\n",
        "\n",
        "   *   It seems that departure during the afternoon and late at night are cheaper, and night is more expensive.\n",
        "\n",
        "   *   It seems that departure during the early morning, afternoon, and late night are cheaper, and evening is more expensive.\n",
        "\n",
        "7. For the cities of the trip:\n",
        "\n",
        "   *   Flights from Delhi are the cheapest from the others cities seem equal on average but slightly more expensive for Chennai.\n",
        "   *   Flights to Delhi is the cheapest and to Bangalore the most expensive ones.\n",
        "\n",
        "8. In general, the more stops there are, the more expensive the flight ticket is.\n",
        "\n",
        "\n",
        "\n"
      ],
      "metadata": {
        "id": "HCBHooVeGbfY"
      }
    }
  ]
}